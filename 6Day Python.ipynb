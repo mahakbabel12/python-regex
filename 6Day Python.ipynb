{
 "cells": [
  {
   "cell_type": "code",
   "execution_count": 5,
   "id": "f5275152-44f3-4e22-9562-71f604379d30",
   "metadata": {},
   "outputs": [
    {
     "data": {
      "text/plain": [
       "3"
      ]
     },
     "execution_count": 5,
     "metadata": {},
     "output_type": "execute_result"
    }
   ],
   "source": [
    "# list indexing\n",
    "# 1.positive-->starting with 0,1,....\n",
    "list=[1,2,3,43,67]\n",
    "list[3]\n",
    "# 2.negative-->strting with ....,-2,-1\n",
    "list[-3]"
   ]
  },
  {
   "cell_type": "code",
   "execution_count": 31,
   "id": "71fdc4fa-e4ab-4456-a76d-3ade2e32cf77",
   "metadata": {},
   "outputs": [
    {
     "data": {
      "text/plain": [
       "[8, 78, 90]"
      ]
     },
     "execution_count": 31,
     "metadata": {},
     "output_type": "execute_result"
    }
   ],
   "source": [
    "#list slicing--->\n",
    "list=[1,34,56,3,7,8,78,90]\n",
    "list[1:3]\n",
    "list[5:15]"
   ]
  },
  {
   "cell_type": "code",
   "execution_count": 33,
   "id": "16418171-6e3a-4556-b499-5bfb018e4bcd",
   "metadata": {},
   "outputs": [
    {
     "data": {
      "text/plain": [
       "[56, 3, 7]"
      ]
     },
     "execution_count": 33,
     "metadata": {},
     "output_type": "execute_result"
    }
   ],
   "source": [
    "list[2:-3]"
   ]
  },
  {
   "cell_type": "code",
   "execution_count": 27,
   "id": "544fe254-0622-4606-8082-f586cf96915f",
   "metadata": {},
   "outputs": [
    {
     "data": {
      "text/plain": [
       "[7, 8, 78]"
      ]
     },
     "execution_count": 27,
     "metadata": {},
     "output_type": "execute_result"
    }
   ],
   "source": [
    "list[-4:-1]"
   ]
  },
  {
   "cell_type": "code",
   "execution_count": 35,
   "id": "54ce8a0e-fcac-458c-9354-4a70120f7239",
   "metadata": {},
   "outputs": [
    {
     "data": {
      "text/plain": [
       "[1, 56, 7]"
      ]
     },
     "execution_count": 35,
     "metadata": {},
     "output_type": "execute_result"
    }
   ],
   "source": [
    "list[0:5:2]"
   ]
  },
  {
   "cell_type": "code",
   "execution_count": 43,
   "id": "d9764a66-d5b7-45ed-8a24-531f17073f84",
   "metadata": {},
   "outputs": [
    {
     "data": {
      "text/plain": [
       "[34, 56]"
      ]
     },
     "execution_count": 43,
     "metadata": {},
     "output_type": "execute_result"
    }
   ],
   "source": [
    "list[1:-5:1]"
   ]
  },
  {
   "cell_type": "code",
   "execution_count": 49,
   "id": "bb097025-4284-4f79-b8b5-d3cc61aec490",
   "metadata": {},
   "outputs": [
    {
     "data": {
      "text/plain": [
       "[90, 78, 8, 7]"
      ]
     },
     "execution_count": 49,
     "metadata": {},
     "output_type": "execute_result"
    }
   ],
   "source": [
    "list[-1:-5:-1]"
   ]
  },
  {
   "cell_type": "code",
   "execution_count": 53,
   "id": "fb3a369e-9411-47d9-8f8a-171f71308d83",
   "metadata": {},
   "outputs": [
    {
     "data": {
      "text/plain": [
       "[90, 70]"
      ]
     },
     "execution_count": 53,
     "metadata": {},
     "output_type": "execute_result"
    }
   ],
   "source": [
    "list=[10,20,30,40,50,60,70,80,90]\n",
    "list[-1:-4:-2]"
   ]
  },
  {
   "cell_type": "code",
   "execution_count": 57,
   "id": "f106c42e-4d9b-489c-9e3b-68cdf7dfd685",
   "metadata": {},
   "outputs": [
    {
     "data": {
      "text/plain": [
       "[20, 30, 40, 50, 60, 70, 80]"
      ]
     },
     "execution_count": 57,
     "metadata": {},
     "output_type": "execute_result"
    }
   ],
   "source": [
    "list[-8:-1:1]"
   ]
  },
  {
   "cell_type": "code",
   "execution_count": 61,
   "id": "1072df10-314a-4b25-875d-8967e95b1b59",
   "metadata": {},
   "outputs": [
    {
     "data": {
      "text/plain": [
       "[10, 20, 30, 40, 50, 60, 70]"
      ]
     },
     "execution_count": 61,
     "metadata": {},
     "output_type": "execute_result"
    }
   ],
   "source": [
    "list[0:7:1]"
   ]
  },
  {
   "cell_type": "code",
   "execution_count": 65,
   "id": "fcb788cc-caa2-4743-8cc3-2771b4b8806e",
   "metadata": {},
   "outputs": [
    {
     "data": {
      "text/plain": [
       "[80]"
      ]
     },
     "execution_count": 65,
     "metadata": {},
     "output_type": "execute_result"
    }
   ],
   "source": [
    "list[-2:-1:1]"
   ]
  },
  {
   "cell_type": "code",
   "execution_count": 81,
   "id": "e0287af8-f448-4978-995b-e10daff0ece6",
   "metadata": {},
   "outputs": [
    {
     "data": {
      "text/plain": [
       "[10, 20, 30, 40, 50, 60, 70]"
      ]
     },
     "execution_count": 81,
     "metadata": {},
     "output_type": "execute_result"
    }
   ],
   "source": [
    "list[0:7:1]"
   ]
  },
  {
   "cell_type": "code",
   "execution_count": 83,
   "id": "919711ad-1e72-4d4f-a2b9-b6e2f27064e6",
   "metadata": {},
   "outputs": [
    {
     "data": {
      "text/plain": [
       "[40, 50, 60]"
      ]
     },
     "execution_count": 83,
     "metadata": {},
     "output_type": "execute_result"
    }
   ],
   "source": [
    "list[-6:-3:1]"
   ]
  },
  {
   "cell_type": "code",
   "execution_count": 73,
   "id": "72dbcde1-de27-4c0b-b187-b0781e668319",
   "metadata": {},
   "outputs": [
    {
     "data": {
      "text/plain": [
       "[90]"
      ]
     },
     "execution_count": 73,
     "metadata": {},
     "output_type": "execute_result"
    }
   ],
   "source": [
    "list[8:6:-2]"
   ]
  },
  {
   "cell_type": "code",
   "execution_count": 85,
   "id": "dc31ea56-53a4-4df8-86cc-87e7d26f7aec",
   "metadata": {},
   "outputs": [
    {
     "data": {
      "text/plain": [
       "[]"
      ]
     },
     "execution_count": 85,
     "metadata": {},
     "output_type": "execute_result"
    }
   ],
   "source": [
    "list[-9:-3:-1]"
   ]
  },
  {
   "cell_type": "code",
   "execution_count": 89,
   "id": "e2653cba-5d8c-486e-a513-aa7da96bdf0a",
   "metadata": {},
   "outputs": [
    {
     "data": {
      "text/plain": [
       "[]"
      ]
     },
     "execution_count": 89,
     "metadata": {},
     "output_type": "execute_result"
    }
   ],
   "source": [
    "list[4:8:-2]"
   ]
  },
  {
   "cell_type": "code",
   "execution_count": 93,
   "id": "bda312e7-e2f8-40a3-bda2-2f1e028bcb6d",
   "metadata": {},
   "outputs": [
    {
     "data": {
      "text/plain": [
       "[]"
      ]
     },
     "execution_count": 93,
     "metadata": {},
     "output_type": "execute_result"
    }
   ],
   "source": [
    "list[5:-2:-3]"
   ]
  },
  {
   "cell_type": "code",
   "execution_count": 99,
   "id": "6238bfcc-e125-42fa-837d-a30a100d4c27",
   "metadata": {},
   "outputs": [
    {
     "data": {
      "text/plain": [
       "[90, 60]"
      ]
     },
     "execution_count": 99,
     "metadata": {},
     "output_type": "execute_result"
    }
   ],
   "source": [
    "list[9:4:-3]"
   ]
  },
  {
   "cell_type": "code",
   "execution_count": 101,
   "id": "493fd2cf-07bc-4180-9e75-510af8ed5443",
   "metadata": {},
   "outputs": [
    {
     "data": {
      "text/plain": [
       "[90]"
      ]
     },
     "execution_count": 101,
     "metadata": {},
     "output_type": "execute_result"
    }
   ],
   "source": [
    "list[8:-2:-2]"
   ]
  }
 ],
 "metadata": {
  "kernelspec": {
   "display_name": "Python 3 (ipykernel)",
   "language": "python",
   "name": "python3"
  },
  "language_info": {
   "codemirror_mode": {
    "name": "ipython",
    "version": 3
   },
   "file_extension": ".py",
   "mimetype": "text/x-python",
   "name": "python",
   "nbconvert_exporter": "python",
   "pygments_lexer": "ipython3",
   "version": "3.12.4"
  }
 },
 "nbformat": 4,
 "nbformat_minor": 5
}
