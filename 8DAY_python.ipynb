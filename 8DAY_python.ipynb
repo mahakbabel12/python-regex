{
 "cells": [
  {
   "cell_type": "code",
   "execution_count": 1,
   "id": "a97e7140-cecb-4ad5-8ce0-8b0d22f31f7f",
   "metadata": {},
   "outputs": [],
   "source": [
    "#DICTIONARIES------>Mapping Datatype\n",
    "#----->mutable datatype\n",
    "#{key:value}pair\n",
    "#keys are immutable"
   ]
  },
  {
   "cell_type": "code",
   "execution_count": 3,
   "id": "d315aba5-5f75-42d4-8cbf-b1767e2bc20b",
   "metadata": {},
   "outputs": [
    {
     "data": {
      "text/plain": [
       "{'name': 'mahak', 'age': 20}"
      ]
     },
     "execution_count": 3,
     "metadata": {},
     "output_type": "execute_result"
    }
   ],
   "source": [
    "my_dict={'name':'mahak','age':20}\n",
    "my_dict"
   ]
  },
  {
   "cell_type": "code",
   "execution_count": 5,
   "id": "5db02eca-ae7d-4634-bbea-f9947585fa44",
   "metadata": {},
   "outputs": [
    {
     "data": {
      "text/plain": [
       "{'True': 'positive', 'False': 'negative'}"
      ]
     },
     "execution_count": 5,
     "metadata": {},
     "output_type": "execute_result"
    }
   ],
   "source": [
    "my_dict={'True':'positive','False':'negative'}\n",
    "my_dict"
   ]
  },
  {
   "cell_type": "code",
   "execution_count": 7,
   "id": "650e6605-0343-479d-bca3-f52227dca75d",
   "metadata": {},
   "outputs": [
    {
     "data": {
      "text/plain": [
       "{('ram', 'mohan'): 21, ('neeti', 'jyoti'): 34}"
      ]
     },
     "execution_count": 7,
     "metadata": {},
     "output_type": "execute_result"
    }
   ],
   "source": [
    "#tuples in dictionary\n",
    "my_dict1={('ram','mohan'):21,('neeti','jyoti'):34}\n",
    "my_dict1"
   ]
  },
  {
   "cell_type": "code",
   "execution_count": 13,
   "id": "3f08cf1c-ccc5-40be-bb18-bab2a48a091e",
   "metadata": {},
   "outputs": [
    {
     "data": {
      "text/plain": [
       "dict_keys([('ram', 'mohan'), ('neeti', 'jyoti')])"
      ]
     },
     "execution_count": 13,
     "metadata": {},
     "output_type": "execute_result"
    }
   ],
   "source": [
    "#built in methods\n",
    "\n",
    "#to print only keys\n",
    "my_dict1.keys()"
   ]
  },
  {
   "cell_type": "code",
   "execution_count": 15,
   "id": "bc8bdc63-3c53-464e-b915-1126eff4f439",
   "metadata": {},
   "outputs": [
    {
     "data": {
      "text/plain": [
       "dict_values([21, 34])"
      ]
     },
     "execution_count": 15,
     "metadata": {},
     "output_type": "execute_result"
    }
   ],
   "source": [
    "#to print only values\n",
    "my_dict1.values()"
   ]
  },
  {
   "cell_type": "code",
   "execution_count": 17,
   "id": "f7ecdd6d-25ce-478d-a0ac-74a1db6fb98f",
   "metadata": {},
   "outputs": [
    {
     "data": {
      "text/plain": [
       "dict_items([(('ram', 'mohan'), 21), (('neeti', 'jyoti'), 34)])"
      ]
     },
     "execution_count": 17,
     "metadata": {},
     "output_type": "execute_result"
    }
   ],
   "source": [
    "#to print only items\n",
    "my_dict1.items()"
   ]
  },
  {
   "cell_type": "code",
   "execution_count": 23,
   "id": "82b17dd9-8a17-47c3-a69f-b97ba9fdfe4f",
   "metadata": {},
   "outputs": [
    {
     "data": {
      "text/plain": [
       "'mohan'"
      ]
     },
     "execution_count": 23,
     "metadata": {},
     "output_type": "execute_result"
    }
   ],
   "source": [
    "#accesing values through key\n",
    "my_dict={'name':'mohan','age':45}\n",
    "my_dict['name']"
   ]
  },
  {
   "cell_type": "code",
   "execution_count": 27,
   "id": "eb32dd91-fc7c-440e-9517-5b8d9d9e81d3",
   "metadata": {},
   "outputs": [
    {
     "data": {
      "text/plain": [
       "'mohan'"
      ]
     },
     "execution_count": 27,
     "metadata": {},
     "output_type": "execute_result"
    }
   ],
   "source": [
    "my_dict.get('name')"
   ]
  },
  {
   "cell_type": "code",
   "execution_count": 29,
   "id": "4142a8ca-235a-4b87-883e-f82f3edb7e4d",
   "metadata": {},
   "outputs": [
    {
     "data": {
      "text/plain": [
       "{'name': 'pooja', 'age': 45}"
      ]
     },
     "execution_count": 29,
     "metadata": {},
     "output_type": "execute_result"
    }
   ],
   "source": [
    "#modifying values \n",
    "my_dict['name']='pooja'\n",
    "my_dict"
   ]
  },
  {
   "cell_type": "code",
   "execution_count": 31,
   "id": "71f91978-8a08-41fd-bd4c-f5b306ec7ad2",
   "metadata": {},
   "outputs": [
    {
     "data": {
      "text/plain": [
       "{'name': 'pooja', 'age': 45, 'location': 'jaipur'}"
      ]
     },
     "execution_count": 31,
     "metadata": {},
     "output_type": "execute_result"
    }
   ],
   "source": [
    "#Adding values\n",
    "my_dict['location']='jaipur'\n",
    "my_dict"
   ]
  },
  {
   "cell_type": "code",
   "execution_count": 35,
   "id": "daf9dd17-824a-4c16-9135-a3a4437bac72",
   "metadata": {},
   "outputs": [
    {
     "data": {
      "text/plain": [
       "{'name': 'pooja', 'location': 'jaipur'}"
      ]
     },
     "execution_count": 35,
     "metadata": {},
     "output_type": "execute_result"
    }
   ],
   "source": [
    "#deleting dictionary\n",
    "del my_dict['age']\n",
    "my_dict"
   ]
  },
  {
   "cell_type": "code",
   "execution_count": 37,
   "id": "64a7cbb7-66ab-4809-9c8c-a62ebae54616",
   "metadata": {},
   "outputs": [
    {
     "data": {
      "text/plain": [
       "{'name': 'pooja'}"
      ]
     },
     "execution_count": 37,
     "metadata": {},
     "output_type": "execute_result"
    }
   ],
   "source": [
    "my_dict.pop('location')\n",
    "my_dict"
   ]
  },
  {
   "cell_type": "code",
   "execution_count": 47,
   "id": "6f44ad48-4fdf-4456-b7cc-f87759e9b38a",
   "metadata": {},
   "outputs": [
    {
     "data": {
      "text/plain": [
       "'+ve value'"
      ]
     },
     "execution_count": 47,
     "metadata": {},
     "output_type": "execute_result"
    }
   ],
   "source": [
    "#ques\n",
    "my_dictionary={True:'positive',1:'+ve value',False:'negative',0:'-ve value'}\n",
    "my_dictionary[True]"
   ]
  },
  {
   "cell_type": "code",
   "execution_count": null,
   "id": "5182230d-f656-4d27-9554-11f3ff38ec62",
   "metadata": {},
   "outputs": [],
   "source": []
  },
  {
   "cell_type": "code",
   "execution_count": null,
   "id": "e063c96f-d31b-40d8-bf86-480840039fdf",
   "metadata": {},
   "outputs": [],
   "source": []
  },
  {
   "cell_type": "code",
   "execution_count": null,
   "id": "578b1fc6-7399-4e43-89da-078d4e16e3df",
   "metadata": {},
   "outputs": [],
   "source": []
  },
  {
   "cell_type": "code",
   "execution_count": null,
   "id": "466bf7a7-999c-4f55-992d-8ac3a3155715",
   "metadata": {},
   "outputs": [],
   "source": []
  },
  {
   "cell_type": "code",
   "execution_count": null,
   "id": "ce27bced-2f8d-41a7-8e1e-b2d3997250f7",
   "metadata": {},
   "outputs": [],
   "source": []
  },
  {
   "cell_type": "code",
   "execution_count": null,
   "id": "1f0e7788-6728-4d51-9f31-a44c1ae1560b",
   "metadata": {},
   "outputs": [],
   "source": []
  },
  {
   "cell_type": "code",
   "execution_count": null,
   "id": "38679177-f4a1-4283-856b-896a988799b0",
   "metadata": {},
   "outputs": [],
   "source": []
  },
  {
   "cell_type": "code",
   "execution_count": null,
   "id": "e8764934-3f0d-4fb1-8c70-379cd2168896",
   "metadata": {},
   "outputs": [],
   "source": []
  },
  {
   "cell_type": "code",
   "execution_count": null,
   "id": "14219a6b-9e1e-484d-99e2-280c38126aff",
   "metadata": {},
   "outputs": [],
   "source": []
  },
  {
   "cell_type": "code",
   "execution_count": null,
   "id": "4dbbe21c-c6da-4c97-bc96-c7ba7301af58",
   "metadata": {},
   "outputs": [],
   "source": []
  },
  {
   "cell_type": "code",
   "execution_count": null,
   "id": "99e4d4fa-f525-49d2-b360-637c9276683a",
   "metadata": {},
   "outputs": [],
   "source": []
  }
 ],
 "metadata": {
  "kernelspec": {
   "display_name": "Python 3 (ipykernel)",
   "language": "python",
   "name": "python3"
  },
  "language_info": {
   "codemirror_mode": {
    "name": "ipython",
    "version": 3
   },
   "file_extension": ".py",
   "mimetype": "text/x-python",
   "name": "python",
   "nbconvert_exporter": "python",
   "pygments_lexer": "ipython3",
   "version": "3.12.4"
  }
 },
 "nbformat": 4,
 "nbformat_minor": 5
}
