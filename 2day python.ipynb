{
 "cells": [
  {
   "cell_type": "code",
   "execution_count": 11,
   "id": "4341058d-7af4-4596-bfeb-e47448a50321",
   "metadata": {},
   "outputs": [
    {
     "name": "stdout",
     "output_type": "stream",
     "text": [
      "mahak**babel\n"
     ]
    }
   ],
   "source": [
    "print('mahak' ,end='**')\n",
    "print('babel')\n"
   ]
  },
  {
   "cell_type": "code",
   "execution_count": 15,
   "id": "80b512a9-e0cb-496c-b0ab-d59ed9fc7cdf",
   "metadata": {},
   "outputs": [
    {
     "name": "stdout",
     "output_type": "stream",
     "text": [
      "jaipur beautiful\n"
     ]
    }
   ],
   "source": [
    "print('jaipur',end=' ')\n",
    "print(\"beautiful\")"
   ]
  },
  {
   "cell_type": "code",
   "execution_count": 19,
   "id": "a30b2ee0-1e7c-4e06-a5dc-a706ba5b053f",
   "metadata": {},
   "outputs": [
    {
     "name": "stdout",
     "output_type": "stream",
     "text": [
      "hello\n",
      "babel\n"
     ]
    }
   ],
   "source": [
    "print('hello')\n",
    "print('babel')"
   ]
  },
  {
   "cell_type": "code",
   "execution_count": 23,
   "id": "ec047c02-f9a7-4e0d-ac13-4a113252d496",
   "metadata": {},
   "outputs": [
    {
     "name": "stdout",
     "output_type": "stream",
     "text": [
      "jaipur\n",
      "city beautiful\n"
     ]
    }
   ],
   "source": [
    "print('jaipur',end='\\n')\n",
    "print('city',end=' ')\n",
    "print('beautiful')"
   ]
  },
  {
   "cell_type": "code",
   "execution_count": 27,
   "id": "7d44b095-612a-4e37-97d7-91d5f2e92b42",
   "metadata": {},
   "outputs": [
    {
     "ename": "ValueError",
     "evalue": "invalid literal for int() with base 10: 'jaipur'",
     "output_type": "error",
     "traceback": [
      "\u001b[1;31m---------------------------------------------------------------------------\u001b[0m",
      "\u001b[1;31mValueError\u001b[0m                                Traceback (most recent call last)",
      "Cell \u001b[1;32mIn[27], line 5\u001b[0m\n\u001b[0;32m      1\u001b[0m \u001b[38;5;66;03m#conversation of datatypes\u001b[39;00m\n\u001b[0;32m      2\u001b[0m \u001b[38;5;66;03m#1.string\u001b[39;00m\n\u001b[0;32m      3\u001b[0m \u001b[38;5;66;03m#str-->int(not possible)\u001b[39;00m\n\u001b[0;32m      4\u001b[0m a\u001b[38;5;241m=\u001b[39m\u001b[38;5;124m'\u001b[39m\u001b[38;5;124mjaipur\u001b[39m\u001b[38;5;124m'\u001b[39m\n\u001b[1;32m----> 5\u001b[0m \u001b[38;5;28mint\u001b[39m(a)\n",
      "\u001b[1;31mValueError\u001b[0m: invalid literal for int() with base 10: 'jaipur'"
     ]
    }
   ],
   "source": [
    "#conversation of datatypes\n",
    "#1.string\n",
    "#str-->int(not possible)\n",
    "a='jaipur'\n",
    "int(a)"
   ]
  },
  {
   "cell_type": "code",
   "execution_count": 31,
   "id": "82a6d819-8211-49a4-93a1-7d39b8a3f15b",
   "metadata": {},
   "outputs": [
    {
     "data": {
      "text/plain": [
       "True"
      ]
     },
     "execution_count": 31,
     "metadata": {},
     "output_type": "execute_result"
    }
   ],
   "source": [
    "#str--->bool\n",
    "a='jaipur'\n",
    "bool(a)"
   ]
  },
  {
   "cell_type": "code",
   "execution_count": 37,
   "id": "37b80bde-feb7-41d9-ad84-2c2dcb12fedc",
   "metadata": {},
   "outputs": [
    {
     "data": {
      "text/plain": [
       "False"
      ]
     },
     "execution_count": 37,
     "metadata": {},
     "output_type": "execute_result"
    }
   ],
   "source": [
    "a=''\n",
    "bool(a)"
   ]
  },
  {
   "cell_type": "code",
   "execution_count": 41,
   "id": "091fe5b7-4845-4a0d-a7d1-00cb4f61e55a",
   "metadata": {},
   "outputs": [
    {
     "ename": "ValueError",
     "evalue": "could not convert string to float: 'jaipur'",
     "output_type": "error",
     "traceback": [
      "\u001b[1;31m---------------------------------------------------------------------------\u001b[0m",
      "\u001b[1;31mValueError\u001b[0m                                Traceback (most recent call last)",
      "Cell \u001b[1;32mIn[41], line 3\u001b[0m\n\u001b[0;32m      1\u001b[0m \u001b[38;5;66;03m#str--->float (not possible)\u001b[39;00m\n\u001b[0;32m      2\u001b[0m a\u001b[38;5;241m=\u001b[39m\u001b[38;5;124m'\u001b[39m\u001b[38;5;124mjaipur\u001b[39m\u001b[38;5;124m'\u001b[39m\n\u001b[1;32m----> 3\u001b[0m \u001b[38;5;28mfloat\u001b[39m(a)\n",
      "\u001b[1;31mValueError\u001b[0m: could not convert string to float: 'jaipur'"
     ]
    }
   ],
   "source": [
    "#str--->float (not possible)\n",
    "a='jaipur'\n",
    "float(a)"
   ]
  },
  {
   "cell_type": "code",
   "execution_count": 49,
   "id": "ab0c9dd8-eef3-4713-bf27-4ee1c9dd8093",
   "metadata": {},
   "outputs": [
    {
     "data": {
      "text/plain": [
       "'10'"
      ]
     },
     "execution_count": 49,
     "metadata": {},
     "output_type": "execute_result"
    }
   ],
   "source": [
    "# 2.integer\n",
    "# int-->string\n",
    "\n",
    "a=10\n",
    "str(a)"
   ]
  },
  {
   "cell_type": "code",
   "execution_count": 51,
   "id": "0853890a-b2d4-4f62-9355-05fa83c3b91a",
   "metadata": {},
   "outputs": [
    {
     "data": {
      "text/plain": [
       "10.0"
      ]
     },
     "execution_count": 51,
     "metadata": {},
     "output_type": "execute_result"
    }
   ],
   "source": [
    "#int--->float\n",
    "float(a)"
   ]
  },
  {
   "cell_type": "code",
   "execution_count": 55,
   "id": "9e7fcede-e709-48f3-9950-9f76e2ca42fb",
   "metadata": {},
   "outputs": [
    {
     "data": {
      "text/plain": [
       "True"
      ]
     },
     "execution_count": 55,
     "metadata": {},
     "output_type": "execute_result"
    }
   ],
   "source": [
    "#int--->bool\n",
    "bool(a)"
   ]
  },
  {
   "cell_type": "code",
   "execution_count": 59,
   "id": "9d6bae96-d031-4173-a330-6817a9778b92",
   "metadata": {},
   "outputs": [
    {
     "data": {
      "text/plain": [
       "False"
      ]
     },
     "execution_count": 59,
     "metadata": {},
     "output_type": "execute_result"
    }
   ],
   "source": [
    "a=0\n",
    "bool(a)"
   ]
  },
  {
   "cell_type": "code",
   "execution_count": 63,
   "id": "4c3893a0-8530-4817-b306-589023754fae",
   "metadata": {},
   "outputs": [
    {
     "data": {
      "text/plain": [
       "'12.5'"
      ]
     },
     "execution_count": 63,
     "metadata": {},
     "output_type": "execute_result"
    }
   ],
   "source": [
    "# 3.FLOAT\n",
    "# float-->str\n",
    "\n",
    "a=12.5\n",
    "str(a)"
   ]
  },
  {
   "cell_type": "code",
   "execution_count": 67,
   "id": "26c699cd-411e-465a-a5cd-2adfbeb78a59",
   "metadata": {},
   "outputs": [
    {
     "data": {
      "text/plain": [
       "12"
      ]
     },
     "execution_count": 67,
     "metadata": {},
     "output_type": "execute_result"
    }
   ],
   "source": [
    "int(a)"
   ]
  },
  {
   "cell_type": "code",
   "execution_count": 71,
   "id": "9c29fa91-4335-40cf-8dd9-e7cca2df814e",
   "metadata": {},
   "outputs": [
    {
     "data": {
      "text/plain": [
       "True"
      ]
     },
     "execution_count": 71,
     "metadata": {},
     "output_type": "execute_result"
    }
   ],
   "source": [
    "bool(a)"
   ]
  },
  {
   "cell_type": "code",
   "execution_count": 75,
   "id": "e107c9bf-90a5-497a-86b9-962e11761476",
   "metadata": {},
   "outputs": [
    {
     "data": {
      "text/plain": [
       "False"
      ]
     },
     "execution_count": 75,
     "metadata": {},
     "output_type": "execute_result"
    }
   ],
   "source": [
    "a=0.0\n",
    "bool(a)"
   ]
  },
  {
   "cell_type": "code",
   "execution_count": 79,
   "id": "857017af-006e-4cda-8218-fcde92a0358a",
   "metadata": {},
   "outputs": [
    {
     "data": {
      "text/plain": [
       "1"
      ]
     },
     "execution_count": 79,
     "metadata": {},
     "output_type": "execute_result"
    }
   ],
   "source": [
    "a=True\n",
    "int(a)"
   ]
  },
  {
   "cell_type": "code",
   "execution_count": 83,
   "id": "c9bc74d3-bd23-4e35-9ea4-73e828fe8b0a",
   "metadata": {},
   "outputs": [
    {
     "data": {
      "text/plain": [
       "0"
      ]
     },
     "execution_count": 83,
     "metadata": {},
     "output_type": "execute_result"
    }
   ],
   "source": [
    "a=False\n",
    "int(a)"
   ]
  },
  {
   "cell_type": "code",
   "execution_count": 87,
   "id": "2c276ef3-ed00-4301-b26f-244a3c4fb366",
   "metadata": {},
   "outputs": [
    {
     "data": {
      "text/plain": [
       "'True'"
      ]
     },
     "execution_count": 87,
     "metadata": {},
     "output_type": "execute_result"
    }
   ],
   "source": [
    "a=True\n",
    "str(a)"
   ]
  },
  {
   "cell_type": "code",
   "execution_count": 89,
   "id": "a5e7ee28-5959-42c0-acb3-a790d5a2e230",
   "metadata": {},
   "outputs": [
    {
     "data": {
      "text/plain": [
       "1.0"
      ]
     },
     "execution_count": 89,
     "metadata": {},
     "output_type": "execute_result"
    }
   ],
   "source": [
    "a=True\n",
    "float(a)"
   ]
  }
 ],
 "metadata": {
  "kernelspec": {
   "display_name": "Python 3 (ipykernel)",
   "language": "python",
   "name": "python3"
  },
  "language_info": {
   "codemirror_mode": {
    "name": "ipython",
    "version": 3
   },
   "file_extension": ".py",
   "mimetype": "text/x-python",
   "name": "python",
   "nbconvert_exporter": "python",
   "pygments_lexer": "ipython3",
   "version": "3.12.4"
  }
 },
 "nbformat": 4,
 "nbformat_minor": 5
}
