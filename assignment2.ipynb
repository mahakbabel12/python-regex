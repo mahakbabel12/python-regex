{
 "cells": [
  {
   "cell_type": "code",
   "execution_count": null,
   "id": "11b80457-b4f9-4416-a0ea-2e37b2dcd2a0",
   "metadata": {},
   "outputs": [],
   "source": [
    "# 1. What is list indexing in Python?\n",
    "# used to show elements throws its index value .\n",
    "# there are two types of indexing---1.positive (0,1,2.....)\n",
    "#                                   2.negative(....,-2,-1)"
   ]
  },
  {
   "cell_type": "code",
   "execution_count": 3,
   "id": "74e02a17-6447-47e0-b4a3-f8b7010c8687",
   "metadata": {},
   "outputs": [
    {
     "data": {
      "text/plain": [
       "1"
      ]
     },
     "execution_count": 3,
     "metadata": {},
     "output_type": "execute_result"
    }
   ],
   "source": [
    "#2. How do you access the first element of a list?\n",
    "# by giving its indexing no.\n",
    "list=[1,2,3,4]\n",
    "list[0]"
   ]
  },
  {
   "cell_type": "code",
   "execution_count": 7,
   "id": "ae78fd4b-e386-4295-949c-c65c4dc0949f",
   "metadata": {},
   "outputs": [
    {
     "data": {
      "text/plain": [
       "30"
      ]
     },
     "execution_count": 7,
     "metadata": {},
     "output_type": "execute_result"
    }
   ],
   "source": [
    "#3. What is the result of my_list[2] if my_list = [10, 20, 30, 40]?\n",
    "my_list = [10, 20, 30, 40]\n",
    "my_list[2]"
   ]
  },
  {
   "cell_type": "code",
   "execution_count": 11,
   "id": "a6ff757a-ce60-433b-b9b4-0050ee164f65",
   "metadata": {},
   "outputs": [
    {
     "data": {
      "text/plain": [
       "40"
      ]
     },
     "execution_count": 11,
     "metadata": {},
     "output_type": "execute_result"
    }
   ],
   "source": [
    "#4. How can you access the last element of a list?\n",
    "#by giving -1 (negative indexing value)\n",
    "\n",
    "my_list = [10, 20, 30, 40]\n",
    "my_list[-1]"
   ]
  },
  {
   "cell_type": "code",
   "execution_count": 13,
   "id": "62a95771-c276-476d-b5f6-edd1cf6e5f51",
   "metadata": {},
   "outputs": [
    {
     "data": {
      "text/plain": [
       "5"
      ]
     },
     "execution_count": 13,
     "metadata": {},
     "output_type": "execute_result"
    }
   ],
   "source": [
    "#5. What will my_list[-1] return if my_list = [1, 2, 3, 4, 5]?\n",
    "my_list = [1, 2, 3, 4, 5]\n",
    "my_list[-1]"
   ]
  },
  {
   "cell_type": "code",
   "execution_count": 15,
   "id": "e0865f21-db85-4fe5-bc6b-0b4e5b268396",
   "metadata": {},
   "outputs": [],
   "source": [
    "#6. How do you access a range of elements in a list?\n",
    "#by using list slicing\n",
    "#[start:end:step]"
   ]
  },
  {
   "cell_type": "code",
   "execution_count": 19,
   "id": "1fb260b1-fdd1-49be-b535-924317816ea9",
   "metadata": {},
   "outputs": [
    {
     "data": {
      "text/plain": [
       "[20, 30, 40]"
      ]
     },
     "execution_count": 19,
     "metadata": {},
     "output_type": "execute_result"
    }
   ],
   "source": [
    "#7. What does my_list[1:4] return for my_list = [10, 20, 30, 40, 50]?\n",
    "my_list = [10, 20, 30, 40, 50]\n",
    "my_list[1:4]"
   ]
  },
  {
   "cell_type": "code",
   "execution_count": 23,
   "id": "30bae7d8-3404-461c-a4fb-4769266eb714",
   "metadata": {},
   "outputs": [
    {
     "data": {
      "text/plain": [
       "['a', 'b', 'c']"
      ]
     },
     "execution_count": 23,
     "metadata": {},
     "output_type": "execute_result"
    }
   ],
   "source": [
    "#8. What is the result of my_list[:3] if my_list =['a','b','c','d']\n",
    "my_list =['a','b','c','d']\n",
    "my_list[:3]"
   ]
  },
  {
   "cell_type": "code",
   "execution_count": 27,
   "id": "0ef3c789-4ee7-4fe3-b9b5-60d99f8b192c",
   "metadata": {},
   "outputs": [
    {
     "data": {
      "text/plain": [
       "[20, 30, 40]"
      ]
     },
     "execution_count": 27,
     "metadata": {},
     "output_type": "execute_result"
    }
   ],
   "source": [
    "#9. How do you get a sublist from the beginning to a specified index?\n",
    "   #by list slicing method\n",
    "my_list = [10, 20, 30, 40, 50]\n",
    "my_list[1:4]"
   ]
  },
  {
   "cell_type": "code",
   "execution_count": 31,
   "id": "000b9d77-7f00-43a4-995e-f4112b782fc2",
   "metadata": {},
   "outputs": [
    {
     "data": {
      "text/plain": [
       "[3, 4, 5]"
      ]
     },
     "execution_count": 31,
     "metadata": {},
     "output_type": "execute_result"
    }
   ],
   "source": [
    "#10. What will my_list[2:] return if my_list = [1, 2, 3, 4, 5]?\n",
    "my_list = [1, 2, 3, 4, 5]\n",
    "my_list[2:]"
   ]
  },
  {
   "cell_type": "code",
   "execution_count": 35,
   "id": "4d85fe05-3e17-4c35-91f5-c40a2c981281",
   "metadata": {},
   "outputs": [
    {
     "data": {
      "text/plain": [
       "[4, 3, 2, 1]"
      ]
     },
     "execution_count": 35,
     "metadata": {},
     "output_type": "execute_result"
    }
   ],
   "source": [
    "#11. How can you reverse a list using slicing?\n",
    "list=[1,2,3,4]\n",
    "list[-1:-5:-1]"
   ]
  },
  {
   "cell_type": "code",
   "execution_count": 41,
   "id": "06b2f90a-8d32-4831-af40-aa72c4820272",
   "metadata": {},
   "outputs": [
    {
     "data": {
      "text/plain": [
       "[3, 2, 1]"
      ]
     },
     "execution_count": 41,
     "metadata": {},
     "output_type": "execute_result"
    }
   ],
   "source": [
    "#12. What does my_list[::-1] do if my_list = [1, 2, 3]?\n",
    "my_list = [1, 2, 3]\n",
    "my_list[::-1]"
   ]
  },
  {
   "cell_type": "code",
   "execution_count": 45,
   "id": "679c4f5d-0cd9-4c24-9638-f4e9983d702a",
   "metadata": {},
   "outputs": [
    {
     "data": {
      "text/plain": [
       "[4, 2]"
      ]
     },
     "execution_count": 45,
     "metadata": {},
     "output_type": "execute_result"
    }
   ],
   "source": [
    "#13. How do you extract every second element from a list?\n",
    "list=[1,2,3,4]\n",
    "list[-1:-5:-2]\n"
   ]
  },
  {
   "cell_type": "code",
   "execution_count": 51,
   "id": "9731060a-218a-4da7-9266-e8972ec3249e",
   "metadata": {},
   "outputs": [
    {
     "data": {
      "text/plain": [
       "[10, 30, 50]"
      ]
     },
     "execution_count": 51,
     "metadata": {},
     "output_type": "execute_result"
    }
   ],
   "source": [
    "#14. What will my_list[::2] return if my_list = [10, 20, 30, 40, 50]?\n",
    "my_list = [10, 20, 30, 40, 50]\n",
    "my_list[::2]"
   ]
  },
  {
   "cell_type": "code",
   "execution_count": 63,
   "id": "c7d56ea6-0b17-400c-beea-13e8644f6cea",
   "metadata": {},
   "outputs": [
    {
     "data": {
      "text/plain": [
       "[9]"
      ]
     },
     "execution_count": 63,
     "metadata": {},
     "output_type": "execute_result"
    }
   ],
   "source": [
    "#15. Can you slice a list with a negative step? If so, how?\n",
    "# yes we can,\n",
    "# by giving negative numbering from the back of the list\n",
    "my_list = [1, 2, 3,7,8,9]\n",
    "my_list[-1:-2:-1]"
   ]
  },
  {
   "cell_type": "code",
   "execution_count": 67,
   "id": "6eed6e01-d589-4fb8-98cd-2ac89af3c115",
   "metadata": {},
   "outputs": [
    {
     "data": {
      "text/plain": [
       "[8, 7]"
      ]
     },
     "execution_count": 67,
     "metadata": {},
     "output_type": "execute_result"
    }
   ],
   "source": [
    "#16. What is the output of my_list[3:1:-1] if my_list = [5, 6, 7, 8, 9]?\n",
    "my_list = [5, 6, 7, 8, 9]\n",
    "my_list[3:1:-1]"
   ]
  },
  {
   "cell_type": "code",
   "execution_count": 73,
   "id": "5d782b57-ccc8-4010-8c86-4cf7e48a0066",
   "metadata": {},
   "outputs": [
    {
     "data": {
      "text/plain": [
       "[2, 3, 45, 67]"
      ]
     },
     "execution_count": 73,
     "metadata": {},
     "output_type": "execute_result"
    }
   ],
   "source": [
    "#17. How do you handle list indexing errors, such as accessing an out-of-range index?\n",
    "#handle it by using slicingfor out of range\n",
    "list=[1,2,3,45,67]\n",
    "list[1:9]"
   ]
  },
  {
   "cell_type": "code",
   "execution_count": 77,
   "id": "58934a76-40d0-4517-b1f9-5476ca3bf712",
   "metadata": {},
   "outputs": [
    {
     "ename": "IndexError",
     "evalue": "list index out of range",
     "output_type": "error",
     "traceback": [
      "\u001b[1;31m---------------------------------------------------------------------------\u001b[0m",
      "\u001b[1;31mIndexError\u001b[0m                                Traceback (most recent call last)",
      "Cell \u001b[1;32mIn[77], line 3\u001b[0m\n\u001b[0;32m      1\u001b[0m \u001b[38;5;66;03m#18. What happens if you use an index greater than the length of the list?\u001b[39;00m\n\u001b[0;32m      2\u001b[0m \u001b[38;5;28mlist\u001b[39m\u001b[38;5;241m=\u001b[39m[\u001b[38;5;241m1\u001b[39m,\u001b[38;5;241m2\u001b[39m,\u001b[38;5;241m3\u001b[39m,\u001b[38;5;241m4\u001b[39m]\n\u001b[1;32m----> 3\u001b[0m \u001b[38;5;28mlist\u001b[39m[\u001b[38;5;241m6\u001b[39m]\n",
      "\u001b[1;31mIndexError\u001b[0m: list index out of range"
     ]
    }
   ],
   "source": [
    "#18. What happens if you use an index greater than the length of the list?\n",
    "list=[1,2,3,4]\n",
    "list[6]"
   ]
  },
  {
   "cell_type": "code",
   "execution_count": 81,
   "id": "a268dbd3-c8e7-4164-8d21-90bfe267f3fd",
   "metadata": {},
   "outputs": [
    {
     "data": {
      "text/plain": [
       "[6, 7, 8]"
      ]
     },
     "execution_count": 81,
     "metadata": {},
     "output_type": "execute_result"
    }
   ],
   "source": [
    "#20. What does my_list[-3:] return if my_list = [4, 5, 6, 7, 8]?\n",
    "my_list = [4, 5, 6, 7, 8]\n",
    "my_list[-3:]\n"
   ]
  },
  {
   "cell_type": "code",
   "execution_count": 85,
   "id": "bdc149bf-ade3-465b-89d7-1a000f1f7455",
   "metadata": {},
   "outputs": [
    {
     "data": {
      "text/plain": [
       "[8, 7]"
      ]
     },
     "execution_count": 85,
     "metadata": {},
     "output_type": "execute_result"
    }
   ],
   "source": [
    "#19. How do negative indices work in Python lists?\n",
    "my_list = [5, 6, 7, 8, 9]\n",
    "my_list[3:1:-1]"
   ]
  },
  {
   "cell_type": "code",
   "execution_count": 91,
   "id": "9f2e6f66-f1eb-47b3-ae6b-92da8a66df42",
   "metadata": {},
   "outputs": [
    {
     "data": {
      "text/plain": [
       "[1, 2, 3]"
      ]
     },
     "execution_count": 91,
     "metadata": {},
     "output_type": "execute_result"
    }
   ],
   "source": [
    "#21. How can you use slicing to create a copy of a list?\n",
    "list=[1,2,3]\n",
    "list[0:3]"
   ]
  },
  {
   "cell_type": "code",
   "execution_count": 95,
   "id": "4eb9610c-bc0d-4aa0-a20c-57bf4bb619c2",
   "metadata": {},
   "outputs": [
    {
     "data": {
      "text/plain": [
       "[1, 4]"
      ]
     },
     "execution_count": 95,
     "metadata": {},
     "output_type": "execute_result"
    }
   ],
   "source": [
    "#22. What is the result of my_list[::3] for my_list = [1, 2, 3, 4, 5, 6]?\n",
    "my_list = [1, 2, 3, 4, 5, 6]\n",
    "my_list[::3]\n"
   ]
  },
  {
   "cell_type": "code",
   "execution_count": 105,
   "id": "7de80950-34cd-4d0b-89d9-f886dedd2581",
   "metadata": {},
   "outputs": [
    {
     "data": {
      "text/plain": [
       "[2, 3, 4, 5]"
      ]
     },
     "execution_count": 105,
     "metadata": {},
     "output_type": "execute_result"
    }
   ],
   "source": [
    "#23. How can you use slicing to remove the first and last elements of a list?\n",
    "my_list = [1, 2, 3, 4, 5, 6]\n",
    "my_list[1:-1]"
   ]
  },
  {
   "cell_type": "code",
   "execution_count": 101,
   "id": "83f41635-f11e-4cbc-8f6e-549f174fa578",
   "metadata": {},
   "outputs": [
    {
     "data": {
      "text/plain": [
       "[20, 30, 40]"
      ]
     },
     "execution_count": 101,
     "metadata": {},
     "output_type": "execute_result"
    }
   ],
   "source": [
    "#24. What is the result of my_list[1:-1] if my_list = [10, 20, 30, 40, 50]?\n",
    "my_list = [10, 20, 30, 40, 50]\n",
    "my_list[1:-1]"
   ]
  },
  {
   "cell_type": "code",
   "execution_count": 109,
   "id": "f25f09ab-e73b-4877-ba0d-f4e7cabb9d78",
   "metadata": {},
   "outputs": [
    {
     "data": {
      "text/plain": [
       "[]"
      ]
     },
     "execution_count": 109,
     "metadata": {},
     "output_type": "execute_result"
    }
   ],
   "source": [
    "#25. How can you check if a list is empty using slicing?\n",
    "list=[1,2]\n",
    "list[1:-1]"
   ]
  },
  {
   "cell_type": "code",
   "execution_count": 113,
   "id": "c9ca22b0-ac67-4e6f-bafe-61815bce3868",
   "metadata": {},
   "outputs": [
    {
     "data": {
      "text/plain": [
       "[2, 3, 4]"
      ]
     },
     "execution_count": 113,
     "metadata": {},
     "output_type": "execute_result"
    }
   ],
   "source": [
    "#26. What does my_list[2:-2] return for my_list = [0, 1, 2, 3, 4, 5, 6]?\n",
    "my_list = [0, 1, 2, 3, 4, 5, 6]\n",
    "my_list[2:-2]"
   ]
  },
  {
   "cell_type": "code",
   "execution_count": 119,
   "id": "7aa3c011-67f6-4fc6-ad52-bf310e6018fc",
   "metadata": {},
   "outputs": [
    {
     "data": {
      "text/plain": [
       "[[4, 5, 6], [8, 9, 10]]"
      ]
     },
     "execution_count": 119,
     "metadata": {},
     "output_type": "execute_result"
    }
   ],
   "source": [
    "#27. How do list slicing and indexing differ when used with multidimensional lists?\n",
    "list=[[1,2,3],[4,5,6],[8,9,10]]\n",
    "list[1][2]\n",
    "\n",
    "list[1:3]"
   ]
  },
  {
   "cell_type": "code",
   "execution_count": 127,
   "id": "93dd7200-cec6-47c8-bab4-f162c2425e0a",
   "metadata": {},
   "outputs": [
    {
     "data": {
      "text/plain": [
       "[0, 1, 2, 3, 4, 5, 6]"
      ]
     },
     "execution_count": 127,
     "metadata": {},
     "output_type": "execute_result"
    }
   ],
   "source": [
    "#28. What is the result of my_list[::]?\n",
    "\n",
    "my_list[::]"
   ]
  },
  {
   "cell_type": "code",
   "execution_count": 131,
   "id": "413975d1-30cb-4646-a241-0c0912478ead",
   "metadata": {},
   "outputs": [
    {
     "data": {
      "text/plain": [
       "[1, 2, 3]"
      ]
     },
     "execution_count": 131,
     "metadata": {},
     "output_type": "execute_result"
    }
   ],
   "source": [
    "#29. How do you use slicing to obtain a specific part of a list from a specific start and end index?\n",
    "list=[1,2,3,8,0]\n",
    "list[0:3]"
   ]
  },
  {
   "cell_type": "code",
   "execution_count": null,
   "id": "bda329bb-e8f7-4826-9c86-01e78d228a5a",
   "metadata": {},
   "outputs": [],
   "source": [
    "#30. How can you combine slices to extract different non-contiguous parts of a list?\n",
    "#-->so in this we use combination of indexing and slicing"
   ]
  }
 ],
 "metadata": {
  "kernelspec": {
   "display_name": "Python 3 (ipykernel)",
   "language": "python",
   "name": "python3"
  },
  "language_info": {
   "codemirror_mode": {
    "name": "ipython",
    "version": 3
   },
   "file_extension": ".py",
   "mimetype": "text/x-python",
   "name": "python",
   "nbconvert_exporter": "python",
   "pygments_lexer": "ipython3",
   "version": "3.12.4"
  }
 },
 "nbformat": 4,
 "nbformat_minor": 5
}
