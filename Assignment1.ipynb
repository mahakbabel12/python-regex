{
 "cells": [
  {
   "cell_type": "code",
   "execution_count": 3,
   "id": "d5aa6800-9539-41b5-bd96-f79a4a5ece85",
   "metadata": {},
   "outputs": [
    {
     "name": "stdout",
     "output_type": "stream",
     "text": [
      "[1, 2, 3, 6, 7, 8]\n"
     ]
    }
   ],
   "source": [
    "#What does the + operator do when used with two lists?\n",
    "lis=[1,2,3]\n",
    "list1=[6,7,8]\n",
    "print(lis +list1)"
   ]
  },
  {
   "cell_type": "code",
   "execution_count": 9,
   "id": "6ceefa0e-aca2-484f-aeaf-aedc9568e121",
   "metadata": {},
   "outputs": [
    {
     "data": {
      "text/plain": [
       "3"
      ]
     },
     "execution_count": 9,
     "metadata": {},
     "output_type": "execute_result"
    }
   ],
   "source": [
    "#How can you find the length of a tuple?\n",
    "tuple=(6,7,8)\n",
    "len(tuple)"
   ]
  },
  {
   "cell_type": "code",
   "execution_count": 13,
   "id": "22172a5f-8295-4b4d-b29d-c9f41c66c72f",
   "metadata": {},
   "outputs": [
    {
     "name": "stdout",
     "output_type": "stream",
     "text": [
      "[1, 4, 6, 5, 1, 4, 6, 5, 1, 4, 6, 5]\n"
     ]
    }
   ],
   "source": [
    "#What does the * operator do when used with a list?\n",
    "list=[1,4,6,5]\n",
    "print(list*3)"
   ]
  },
  {
   "cell_type": "code",
   "execution_count": 17,
   "id": "017756d9-bd12-4d82-a6b8-544c368a9cfd",
   "metadata": {},
   "outputs": [
    {
     "data": {
      "text/plain": [
       "[1, 3, 5, 9]"
      ]
     },
     "execution_count": 17,
     "metadata": {},
     "output_type": "execute_result"
    }
   ],
   "source": [
    "#How do you add an element to the end of a list?\n",
    "list=[1,3,5]\n",
    "list.append(9)\n",
    "list"
   ]
  },
  {
   "cell_type": "code",
   "execution_count": 21,
   "id": "43e5ff7d-3868-45e9-b416-e0af6addc790",
   "metadata": {},
   "outputs": [
    {
     "data": {
      "text/plain": [
       "[1, 5]"
      ]
     },
     "execution_count": 21,
     "metadata": {},
     "output_type": "execute_result"
    }
   ],
   "source": [
    "#What method can you use to remove an element from a list by its value?\n",
    "list=[1,3,5]\n",
    "list.remove(3)\n",
    "list\n"
   ]
  },
  {
   "cell_type": "code",
   "execution_count": 45,
   "id": "0b5cca8d-b167-49c0-ad3c-27f6c419fc4c",
   "metadata": {},
   "outputs": [
    {
     "name": "stdout",
     "output_type": "stream",
     "text": [
      "5\n"
     ]
    }
   ],
   "source": [
    "#How do you access the third element of a tuple?\n",
    "tuple=(1,4,5,6)\n",
    "print(tuple[2])\n"
   ]
  },
  {
   "cell_type": "code",
   "execution_count": 33,
   "id": "5ecc41f3-ec3a-46a0-aff7-12e7e419648e",
   "metadata": {},
   "outputs": [
    {
     "data": {
      "text/plain": [
       "[0, 1, 1, 2, 2, 3, 4]"
      ]
     },
     "execution_count": 33,
     "metadata": {},
     "output_type": "execute_result"
    }
   ],
   "source": [
    "#What method can you use to sort a list in ascending order?\n",
    "list=[1,4,2,3,1,2,0]\n",
    "list.sort()\n",
    "list\n"
   ]
  },
  {
   "cell_type": "code",
   "execution_count": 47,
   "id": "3e0b3c73-c0f5-4a3c-ada1-cc795bd5c403",
   "metadata": {},
   "outputs": [
    {
     "name": "stdout",
     "output_type": "stream",
     "text": [
      "True\n"
     ]
    }
   ],
   "source": [
    "#How can you check if a specific item exists in a tuple?\n",
    "tuple=(1,3,5)\n",
    "print(3 in tuple)"
   ]
  },
  {
   "cell_type": "code",
   "execution_count": 51,
   "id": "94d56914-d3ff-46ab-966f-0de867c87923",
   "metadata": {},
   "outputs": [
    {
     "data": {
      "text/plain": [
       "[]"
      ]
     },
     "execution_count": 51,
     "metadata": {},
     "output_type": "execute_result"
    }
   ],
   "source": [
    "#What method would you use to remove all occurrences of a specific item from a list?\n",
    "list=[1,4,5,6,4,2]\n",
    "#---->their is no method to remove all smiliar no.s ..we have to put remove in loop"
   ]
  },
  {
   "cell_type": "code",
   "execution_count": 55,
   "id": "d8228318-4f62-4a7a-967d-8a3d8201402e",
   "metadata": {},
   "outputs": [
    {
     "name": "stdout",
     "output_type": "stream",
     "text": [
      "(1, 3, 5, 6)\n"
     ]
    }
   ],
   "source": [
    "#How can you concatenate two tuples?\n",
    "t1=(1,3)\n",
    "t2=(5,6)\n",
    "print(t1 + t2)"
   ]
  },
  {
   "cell_type": "code",
   "execution_count": 61,
   "id": "043bbb16-b753-4de3-9659-3ee967d69458",
   "metadata": {},
   "outputs": [
    {
     "data": {
      "text/plain": [
       "1"
      ]
     },
     "execution_count": 61,
     "metadata": {},
     "output_type": "execute_result"
    }
   ],
   "source": [
    "#What method can you use to get the index of a specific item in a list?\n",
    "list=[1,3,5]\n",
    "list.index(3)\n"
   ]
  },
  {
   "cell_type": "code",
   "execution_count": 77,
   "id": "7ff95747-2d81-4e47-bf20-bf994949f1be",
   "metadata": {},
   "outputs": [
    {
     "data": {
      "text/plain": [
       "(10,)"
      ]
     },
     "execution_count": 77,
     "metadata": {},
     "output_type": "execute_result"
    }
   ],
   "source": [
    "#How do you create a tuple with a single element?\n",
    "t=(10,)\n",
    "t\n"
   ]
  },
  {
   "cell_type": "code",
   "execution_count": 73,
   "id": "e8e5db67-a19f-4d39-8e56-a454f1a1226c",
   "metadata": {},
   "outputs": [
    {
     "name": "stdout",
     "output_type": "stream",
     "text": [
      "True\n",
      "True\n"
     ]
    }
   ],
   "source": [
    "#What does the in operator do when used with a list or tuple?\n",
    "#a memership op\n",
    "tuple=(1,3,5)\n",
    "print(3 in tuple)\n",
    "\n",
    "list=[1,2,3,5]\n",
    "print(5 in list)\n"
   ]
  },
  {
   "cell_type": "code",
   "execution_count": 75,
   "id": "7c6a84ba-f606-4e26-90f4-eec16ebd5ccc",
   "metadata": {},
   "outputs": [
    {
     "data": {
      "text/plain": [
       "[6, 5, 4, 1]"
      ]
     },
     "execution_count": 75,
     "metadata": {},
     "output_type": "execute_result"
    }
   ],
   "source": [
    "#How can you reverse the elements of a list?\n",
    "list=[1,4,5,6]\n",
    "list.reverse()\n",
    "list"
   ]
  },
  {
   "cell_type": "code",
   "execution_count": 85,
   "id": "315363d0-5322-4318-bf55-4a6bfc0dbf0a",
   "metadata": {},
   "outputs": [
    {
     "data": {
      "text/plain": [
       "2"
      ]
     },
     "execution_count": 85,
     "metadata": {},
     "output_type": "execute_result"
    }
   ],
   "source": [
    "#How do you find the number of occurrences of a specific element in a list?\n",
    "list=[1,2,3,2,3,6]\n",
    "list.count(2)\n",
    "\n"
   ]
  },
  {
   "cell_type": "code",
   "execution_count": 101,
   "id": "d98cc904-bf36-44b0-a5bd-c06468be8819",
   "metadata": {},
   "outputs": [
    {
     "data": {
      "text/plain": [
       "[1, 2, 3]"
      ]
     },
     "execution_count": 101,
     "metadata": {},
     "output_type": "execute_result"
    }
   ],
   "source": [
    "#How can you slice a list to get the first three elements?\n",
    "list=[1,2,3,45,8]\n",
    "list[0:3]\n"
   ]
  },
  {
   "cell_type": "code",
   "execution_count": 103,
   "id": "cbeaa2f5-4094-44dd-94a3-a5ffe1d6a595",
   "metadata": {},
   "outputs": [],
   "source": [
    "#What is the difference between the append and extend methods for a list?\n",
    "# append is used to add a single element at the end of the list\n",
    "# extend is used to add multiple items or a new list to the existing list."
   ]
  },
  {
   "cell_type": "code",
   "execution_count": 107,
   "id": "52bee7ba-cdf7-48ec-81ff-0d9d8ddc651f",
   "metadata": {},
   "outputs": [
    {
     "data": {
      "text/plain": [
       "[(1, 2), (3, 4)]"
      ]
     },
     "execution_count": 107,
     "metadata": {},
     "output_type": "execute_result"
    }
   ],
   "source": [
    "#How can you create a list of tuples where each tuple contains two elements?\n",
    "#--->by list comphresion"
   ]
  },
  {
   "cell_type": "code",
   "execution_count": 113,
   "id": "163453c9-57de-4a78-a5dc-f3f2ba9d7a67",
   "metadata": {},
   "outputs": [
    {
     "ename": "SyntaxError",
     "evalue": "invalid syntax (546720548.py, line 2)",
     "output_type": "error",
     "traceback": [
      "\u001b[1;36m  Cell \u001b[1;32mIn[113], line 2\u001b[1;36m\u001b[0m\n\u001b[1;33m    You cannot change, add, or remove elements in a tuple, but you can perform other operations that do not modify the original tuple.\u001b[0m\n\u001b[1;37m        ^\u001b[0m\n\u001b[1;31mSyntaxError\u001b[0m\u001b[1;31m:\u001b[0m invalid syntax\n"
     ]
    }
   ],
   "source": [
    "#What method can you use to remove an element from a tuple (since tuples are immutable)?\n",
    "#--->You cannot change, add, or remove elements in a tuple, but you can perform other operations that do not modify the original tuple."
   ]
  },
  {
   "cell_type": "code",
   "execution_count": 117,
   "id": "d8f111e6-6979-46e3-8dee-6aa1c8a32a6a",
   "metadata": {},
   "outputs": [
    {
     "data": {
      "text/plain": [
       "['mahak', 'apple', 'boy', 'bat', 'mon']"
      ]
     },
     "execution_count": 117,
     "metadata": {},
     "output_type": "execute_result"
    }
   ],
   "source": [
    "#How do you join a list of strings into a single string with spaces in between?\n",
    "# list=['mahak','apple','boy']\n",
    "# join function\n",
    "# ' '.join(list)"
   ]
  },
  {
   "cell_type": "code",
   "execution_count": 121,
   "id": "071c9359-c504-477f-8658-4eed950d0f4e",
   "metadata": {},
   "outputs": [],
   "source": [
    "#What is the syntax for an if statement in Python?\n",
    "# if(condition):\n",
    "#     code\n",
    "# elif(condition):\n",
    "#     code\n",
    "# else:\n",
    "#     code"
   ]
  },
  {
   "cell_type": "code",
   "execution_count": 127,
   "id": "b8585f77-20b2-42bd-a07f-9b76006c49e2",
   "metadata": {},
   "outputs": [
    {
     "name": "stdout",
     "output_type": "stream",
     "text": [
      "enter no 3\n"
     ]
    },
    {
     "name": "stdout",
     "output_type": "stream",
     "text": [
      "positive\n"
     ]
    }
   ],
   "source": [
    "#How do you write an if-else statement to check if a number is positive or negative?\n",
    "n=int(input('enter no'))\n",
    "if(n>0):\n",
    "    print('positive')\n",
    "else:\n",
    "    print('negative')"
   ]
  },
  {
   "cell_type": "code",
   "execution_count": 129,
   "id": "c5c8ac04-6a6b-45eb-a8ef-ff023d7fa461",
   "metadata": {},
   "outputs": [],
   "source": [
    "#What is the purpose of the elif keyword?\n",
    "     #to pass multiple conditions in pgm"
   ]
  },
  {
   "cell_type": "code",
   "execution_count": 133,
   "id": "a4166cdc-a3f3-47e6-b640-0a43247f6352",
   "metadata": {},
   "outputs": [
    {
     "name": "stdout",
     "output_type": "stream",
     "text": [
      "enter no 34\n"
     ]
    },
    {
     "name": "stdout",
     "output_type": "stream",
     "text": [
      "not\n"
     ]
    }
   ],
   "source": [
    "#How do you check if a variable x is between 10 and 20 (inclusive)?\n",
    "x=int(input('enter no'))\n",
    "if((x>=10) and (x<=20)):\n",
    "    print('x is between 10 and 20')\n",
    "else:\n",
    "    print('not')"
   ]
  },
  {
   "cell_type": "code",
   "execution_count": 135,
   "id": "8e5dd441-96dd-457c-9de8-54c502282ee7",
   "metadata": {},
   "outputs": [],
   "source": [
    "#What is the result of an if statement when the condition is False?\n",
    "#--->then it will execute the code written in else part"
   ]
  },
  {
   "cell_type": "code",
   "execution_count": 141,
   "id": "b9d3275d-21c5-400f-b8b4-b8aa5ae74c68",
   "metadata": {},
   "outputs": [
    {
     "name": "stdout",
     "output_type": "stream",
     "text": [
      "enter no 45\n"
     ]
    },
    {
     "name": "stdout",
     "output_type": "stream",
     "text": [
      "not\n"
     ]
    }
   ],
   "source": [
    "#How can you combine multiple conditions in a single if statement using and?\n",
    "x=int(input('enter no'))\n",
    "if((x>=10) and (x<=20)):\n",
    "    print('x is between 10 and 20')\n",
    "elif((x>59) and (x<90)):\n",
    "    print('x is bet 59 and 90')\n",
    "else:\n",
    "    print('not')"
   ]
  },
  {
   "cell_type": "code",
   "execution_count": 143,
   "id": "55f0b4f1-20b5-4222-9c68-10fd444241c7",
   "metadata": {},
   "outputs": [],
   "source": [
    "#What will be the output of an if-else statement if the condition is true?\n",
    "# ---->it will go inside the loop and print the result"
   ]
  },
  {
   "cell_type": "code",
   "execution_count": 149,
   "id": "8b6bae00-7ede-4af1-a470-1b7350df01cb",
   "metadata": {},
   "outputs": [
    {
     "name": "stdout",
     "output_type": "stream",
     "text": [
      "enter no 4\n"
     ]
    },
    {
     "name": "stdout",
     "output_type": "stream",
     "text": [
      "div by 2 and 3\n"
     ]
    }
   ],
   "source": [
    "#How do you use the or operator to check if at least one of two conditions is true?\n",
    "x=int(input('enter no'))\n",
    "if((x%2==0) or (x%3==0)):\n",
    "    print('div by 2 and 3')\n",
    "else:\n",
    "    print('not div')"
   ]
  },
  {
   "cell_type": "code",
   "execution_count": 151,
   "id": "bb1fea6a-8baa-40a2-ac57-0ab4bf9e9f3a",
   "metadata": {},
   "outputs": [],
   "source": [
    "#What is the difference between == and is in conditional statements?\n",
    "# == means equal value \n",
    "# is means shows the location"
   ]
  },
  {
   "cell_type": "code",
   "execution_count": 157,
   "id": "e9910d19-45ce-425a-bcee-0de43c759759",
   "metadata": {},
   "outputs": [
    {
     "data": {
      "text/plain": [
       "False"
      ]
     },
     "execution_count": 157,
     "metadata": {},
     "output_type": "execute_result"
    }
   ],
   "source": [
    "#How can you check if a string s is empty?\n",
    "a=\"\"\n",
    "bool(a) # false it means string is empty"
   ]
  },
  {
   "cell_type": "code",
   "execution_count": 175,
   "id": "a5fcfcbb-7b36-462a-bcbb-43c98e404780",
   "metadata": {},
   "outputs": [
    {
     "name": "stdout",
     "output_type": "stream",
     "text": [
      "enter no 45\n"
     ]
    },
    {
     "name": "stdout",
     "output_type": "stream",
     "text": [
      "false\n"
     ]
    }
   ],
   "source": [
    "#What is the result of the following condition: if not (x > 10)?\n",
    "x=int(input('enter no'))\n",
    "if(not(x>10)):\n",
    "    print('true')\n",
    "else:\n",
    "    print('false')"
   ]
  },
  {
   "cell_type": "code",
   "execution_count": 165,
   "id": "1b614553-40ee-4901-825c-bccbf09e76c4",
   "metadata": {},
   "outputs": [
    {
     "name": "stdout",
     "output_type": "stream",
     "text": [
      "enter no 4\n"
     ]
    },
    {
     "name": "stdout",
     "output_type": "stream",
     "text": [
      "no. is even\n"
     ]
    }
   ],
   "source": [
    "#How do you write a conditional statement to execute code only if a number is even?\n",
    "x=int(input('enter no'))\n",
    "if(x%2==0):\n",
    "    print(\"no. is even\")\n",
    "else:\n",
    "    print(\"odd\")"
   ]
  },
  {
   "cell_type": "code",
   "execution_count": 171,
   "id": "5ba6422a-2a9a-4935-a10a-cb8b5b6d008d",
   "metadata": {},
   "outputs": [
    {
     "name": "stdout",
     "output_type": "stream",
     "text": [
      "empty\n"
     ]
    }
   ],
   "source": [
    "#How can you use an if statement to determine if a list is empty?\n",
    "list=[]\n",
    "if(len(list)==0):\n",
    "    print(\"empty\")\n",
    "else:\n",
    "    print(\"not\")"
   ]
  },
  {
   "cell_type": "code",
   "execution_count": 177,
   "id": "bcf97646-cb90-4d95-a232-65a2e92fdbe7",
   "metadata": {},
   "outputs": [],
   "source": [
    "#What does the pass statement do in an if block?--->it does nothing in python\n",
    "              #                                       pass tells python to skip this line and do nothing     "
   ]
  },
  {
   "cell_type": "code",
   "execution_count": 183,
   "id": "2fc0bb6d-1156-40e2-a68a-98f6430024ec",
   "metadata": {},
   "outputs": [
    {
     "name": "stdout",
     "output_type": "stream",
     "text": [
      "enter no 6\n"
     ]
    },
    {
     "name": "stdout",
     "output_type": "stream",
     "text": [
      "less\n"
     ]
    }
   ],
   "source": [
    "#How can you nest if statements inside each other?\n",
    "x=int(input('enter no'))\n",
    "if(x%2==0):\n",
    "    a=3\n",
    "    if(a<4):\n",
    "        print('less')\n",
    "    else:\n",
    "        print('greater')\n",
    "else:\n",
    "    print('not valid')\n",
    "\n"
   ]
  },
  {
   "cell_type": "code",
   "execution_count": 187,
   "id": "789707a1-6680-4e1b-b8ac-6fdc39f1c640",
   "metadata": {},
   "outputs": [],
   "source": [
    "#What will be the result if no conditions in an if-elif-else chain are met?\n",
    "#---->if else is not presentr nothing will print\n",
    "#---->if else is present else part will print"
   ]
  },
  {
   "cell_type": "code",
   "execution_count": null,
   "id": "fbddc0e4-70ed-4a54-a381-c019cd5463a2",
   "metadata": {},
   "outputs": [],
   "source": [
    "#How do you check if a number is divisible by both 3 and 5 using an if statement?\n"
   ]
  },
  {
   "cell_type": "code",
   "execution_count": 191,
   "id": "52be8e66-05aa-469b-b5f7-df5b5181ba54",
   "metadata": {},
   "outputs": [
    {
     "name": "stdout",
     "output_type": "stream",
     "text": [
      "enter no 15\n"
     ]
    },
    {
     "name": "stdout",
     "output_type": "stream",
     "text": [
      "div by 3 and 5\n"
     ]
    }
   ],
   "source": [
    "#How do you check if a number is divisible by both 3 and 5 using an if statement?\n",
    "x=int(input('enter no'))\n",
    "if((x%3==0) and (x%5==0)):\n",
    "    print('div by 3 and 5')\n",
    "else:\n",
    "    print('not div')"
   ]
  },
  {
   "cell_type": "code",
   "execution_count": 193,
   "id": "c326eb0f-b5bb-4fb8-9e8d-4e69e6e488e0",
   "metadata": {},
   "outputs": [
    {
     "name": "stdout",
     "output_type": "stream",
     "text": [
      "x is small\n"
     ]
    }
   ],
   "source": [
    "#What is the result of the following if statement: if x &gt; 5: print(&quot;x is large&quot;) else: print(&quot;x is small&quot;)\n",
    "#where x is 3?\n",
    "x=3\n",
    "if(x>5):\n",
    "    print('x is large')\n",
    "else:\n",
    "    print('x is small')"
   ]
  }
 ],
 "metadata": {
  "kernelspec": {
   "display_name": "Python 3 (ipykernel)",
   "language": "python",
   "name": "python3"
  },
  "language_info": {
   "codemirror_mode": {
    "name": "ipython",
    "version": 3
   },
   "file_extension": ".py",
   "mimetype": "text/x-python",
   "name": "python",
   "nbconvert_exporter": "python",
   "pygments_lexer": "ipython3",
   "version": "3.12.4"
  }
 },
 "nbformat": 4,
 "nbformat_minor": 5
}
