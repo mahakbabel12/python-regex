{
 "cells": [
  {
   "cell_type": "code",
   "execution_count": 1,
   "id": "08c1d933-7f22-439b-8e61-11ddeda986a1",
   "metadata": {},
   "outputs": [],
   "source": [
    "#conditional statements---->used to run our code based on some condition\n",
    "# if(cond):\n",
    "#     code\n",
    "# elif(cond):\n",
    "#     code\n",
    "# else:\n",
    "#     code"
   ]
  },
  {
   "cell_type": "code",
   "execution_count": 5,
   "id": "855a7c1d-d16e-4532-8e41-3f4022f349c8",
   "metadata": {},
   "outputs": [
    {
     "name": "stdout",
     "output_type": "stream",
     "text": [
      "eqauls to 18\n"
     ]
    }
   ],
   "source": [
    "age=18\n",
    "if(age>18):\n",
    "    print(\"eligible for vote\")\n",
    "elif(age<18):\n",
    "    print(\"not eligible\")\n",
    "else:\n",
    "    print(\"eqauls to 18\")"
   ]
  },
  {
   "cell_type": "code",
   "execution_count": 11,
   "id": "a4bdbf4f-0fe8-4b40-a8af-76d0717def10",
   "metadata": {},
   "outputs": [
    {
     "name": "stdin",
     "output_type": "stream",
     "text": [
      "enter your age 45\n"
     ]
    },
    {
     "name": "stdout",
     "output_type": "stream",
     "text": [
      "eligible for vote\n"
     ]
    }
   ],
   "source": [
    "#input function\n",
    "age=int(input(\"enter your age\"))\n",
    "if(age>18):\n",
    "    print(\"eligible for vote\")\n",
    "elif(age<18):\n",
    "    print(\"not eligible\")\n",
    "else:\n",
    "    print(\"eqauls to 18\")"
   ]
  },
  {
   "cell_type": "code",
   "execution_count": 27,
   "id": "2d05471a-4c94-4e7d-8591-e303bbfc74f5",
   "metadata": {},
   "outputs": [
    {
     "name": "stdout",
     "output_type": "stream",
     "text": [
      "eligible\n",
      "try again\n"
     ]
    }
   ],
   "source": [
    "age=2\n",
    "has_voterid=True\n",
    "if((age<18) and (has_voterid==True)):\n",
    "    print(\"eligible\")\n",
    "if((age>=19) and (has_voterid==False)):\n",
    "    print(\" not eligible\")\n",
    "else:\n",
    "    print(\"try again\")"
   ]
  },
  {
   "cell_type": "code",
   "execution_count": 11,
   "id": "43ca4550-fb5e-466c-ada9-98bd0e716702",
   "metadata": {},
   "outputs": [
    {
     "name": "stdin",
     "output_type": "stream",
     "text": [
      "enter your class 5\n"
     ]
    },
    {
     "name": "stdout",
     "output_type": "stream",
     "text": [
      "primary student\n"
     ]
    }
   ],
   "source": [
    "clas=int(input(\"enter your class\"))\n",
    "if((clas>=1) and (clas<=5)):\n",
    "    print(\"primary student\")\n",
    "elif((clas>=6) and (clas<=8)):\n",
    "    print(\"secondary student\")\n",
    "elif((clas>=9) and (clas<=12)):\n",
    "    print(\"senior student\")\n",
    "else:\n",
    "    print(\"not a student\")"
   ]
  },
  {
   "cell_type": "code",
   "execution_count": 17,
   "id": "ef9fd3a1-a600-4a7d-b01b-6db094fd23d4",
   "metadata": {},
   "outputs": [
    {
     "name": "stdin",
     "output_type": "stream",
     "text": [
      "input character t\n"
     ]
    },
    {
     "name": "stdout",
     "output_type": "stream",
     "text": [
      "vowel\n"
     ]
    }
   ],
   "source": [
    "char=input(\"input character\")\n",
    "if(char in 'a','e','i','o','u'):\n",
    "    print(\"vowel\")\n",
    "else:\n",
    "    print(\"not a vowel\")"
   ]
  }
 ],
 "metadata": {
  "kernelspec": {
   "display_name": "Python 3 (ipykernel)",
   "language": "python",
   "name": "python3"
  },
  "language_info": {
   "codemirror_mode": {
    "name": "ipython",
    "version": 3
   },
   "file_extension": ".py",
   "mimetype": "text/x-python",
   "name": "python",
   "nbconvert_exporter": "python",
   "pygments_lexer": "ipython3",
   "version": "3.12.4"
  }
 },
 "nbformat": 4,
 "nbformat_minor": 5
}
