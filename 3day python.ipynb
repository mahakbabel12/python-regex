{
 "cells": [
  {
   "cell_type": "code",
   "execution_count": 1,
   "id": "fc124c3b-c588-480b-959f-1c8b1f62acec",
   "metadata": {},
   "outputs": [],
   "source": [
    "# operators\n",
    "\n",
    "# 1.arithmetic op(-,*,/,%,//,**,+)\n",
    "# 2.assignment op(*=,+=,-=,**=,/=,//=,%=)\n",
    "# 3.logical op(AND,NOT,OR)\n",
    "# 4.comparision op(<,>,<=,>=,==,!)"
   ]
  },
  {
   "cell_type": "code",
   "execution_count": 17,
   "id": "d9b337a9-eabc-494c-bb3d-86e913066ef6",
   "metadata": {},
   "outputs": [
    {
     "name": "stdout",
     "output_type": "stream",
     "text": [
      "15\n",
      "5\n",
      "50\n",
      "100000\n",
      "2.0\n",
      "0\n",
      "2\n"
     ]
    }
   ],
   "source": [
    "# 1.arithmetic op\n",
    "\n",
    "a=10\n",
    "b=5\n",
    "print(a+b)\n",
    "print(a-b)\n",
    "print(a*b)\n",
    "print(a**b)\n",
    "print(a/b)\n",
    "print(a%b)\n",
    "print(a//b)"
   ]
  },
  {
   "cell_type": "code",
   "execution_count": 35,
   "id": "2d8f36d1-92d6-454c-be1f-bca820f47413",
   "metadata": {},
   "outputs": [
    {
     "name": "stdout",
     "output_type": "stream",
     "text": [
      "7\n",
      "3\n",
      "1.0\n",
      "2.0\n",
      "4.0\n",
      "1.0\n",
      "1.0\n"
     ]
    }
   ],
   "source": [
    "#2.assignment op\n",
    "x=5\n",
    "x+=2\n",
    "print(x)\n",
    "x-=4\n",
    "print(x)\n",
    "x/=3\n",
    "print(x)\n",
    "x*=2\n",
    "print(x)\n",
    "x**=2\n",
    "print(x)\n",
    "x//=3\n",
    "print(x)\n",
    "x%=4\n",
    "print(x)\n"
   ]
  },
  {
   "cell_type": "code",
   "execution_count": 45,
   "id": "c4828636-8441-48bb-bc83-5761961c193b",
   "metadata": {},
   "outputs": [
    {
     "name": "stdout",
     "output_type": "stream",
     "text": [
      "False\n",
      "False\n",
      "True\n",
      "True\n",
      "True\n"
     ]
    }
   ],
   "source": [
    "#3.comparision op\n",
    "a=10\n",
    "b=20\n",
    "print(a==b)\n",
    "print(a>b)\n",
    "print(a<b)\n",
    "print(a<=b)\n",
    "print(a!=b)"
   ]
  },
  {
   "cell_type": "code",
   "execution_count": 51,
   "id": "5b4b46b7-6aee-4ae8-b478-638c71c4e16a",
   "metadata": {},
   "outputs": [
    {
     "name": "stdout",
     "output_type": "stream",
     "text": [
      "False\n",
      "True\n"
     ]
    }
   ],
   "source": [
    "#4.LOGICAL OP\n",
    "a=True\n",
    "b=False\n",
    "result1=a and b\n",
    "print(result1)\n",
    "result2=a or b\n",
    "print(result2)"
   ]
  },
  {
   "cell_type": "code",
   "execution_count": 55,
   "id": "d740b717-be69-4ce1-b030-5b01250bf692",
   "metadata": {},
   "outputs": [
    {
     "name": "stdout",
     "output_type": "stream",
     "text": [
      "False\n"
     ]
    }
   ],
   "source": [
    "a=True\n",
    "result=not a\n",
    "print(result)"
   ]
  },
  {
   "cell_type": "code",
   "execution_count": 67,
   "id": "2919f6bb-03fc-4824-869e-e77a109f1421",
   "metadata": {},
   "outputs": [
    {
     "name": "stdout",
     "output_type": "stream",
     "text": [
      "True\n",
      "False\n",
      "True\n",
      "True\n"
     ]
    }
   ],
   "source": [
    "x=10\n",
    "y=20\n",
    "z=30\n",
    "result=x<y and y<z\n",
    "print(result)\n",
    "result1=x>y and y<z\n",
    "print(result1)\n",
    "\n",
    "resul2=x<y or y<z\n",
    "print(result2)\n",
    "\n",
    "result3=x>y or y<z\n",
    "print(result3)"
   ]
  },
  {
   "cell_type": "code",
   "execution_count": 73,
   "id": "a38f3959-1802-499b-a18c-d7da4bc2bd98",
   "metadata": {},
   "outputs": [
    {
     "name": "stdout",
     "output_type": "stream",
     "text": [
      "True\n",
      "True\n"
     ]
    }
   ],
   "source": [
    "# 5.identity op--->to check location of variables\n",
    "a=10\n",
    "b=10\n",
    "print(a==b)\n",
    "print(a is b)   #location\n",
    "#integer have same location of same variable"
   ]
  },
  {
   "cell_type": "code",
   "execution_count": 97,
   "id": "7b11f626-9805-4517-a566-4bb2f3183843",
   "metadata": {},
   "outputs": [
    {
     "name": "stdout",
     "output_type": "stream",
     "text": [
      "True\n",
      "False\n",
      "2297296594176\n",
      "2297242574976\n"
     ]
    }
   ],
   "source": [
    "a=[1,2,3]\n",
    "b=[1,2,3]\n",
    "print(a==b)\n",
    "print(a is b)\n",
    "print(id(a))\n",
    "print(id(b))\n",
    "#a and b have diff location"
   ]
  },
  {
   "cell_type": "code",
   "execution_count": 103,
   "id": "b9cc3207-01d0-4c03-9a51-eb2631459828",
   "metadata": {},
   "outputs": [
    {
     "name": "stdout",
     "output_type": "stream",
     "text": [
      "True\n",
      "2297296554944\n",
      "2297296554944\n"
     ]
    }
   ],
   "source": [
    "c=[3,4,5]\n",
    "d=c\n",
    "print(d is c)\n",
    "print(id(d))\n",
    "print(id(c))"
   ]
  },
  {
   "cell_type": "code",
   "execution_count": 117,
   "id": "c0429a68-c16c-4a4a-9098-4a1f0f90e127",
   "metadata": {},
   "outputs": [
    {
     "name": "stdout",
     "output_type": "stream",
     "text": [
      "True\n",
      "False\n",
      "False\n"
     ]
    }
   ],
   "source": [
    "# 6.MEMBERSHIP OPERATOR ----> in\n",
    "str1='delhi'\n",
    "print('e' in str1)\n",
    "print('s' in str1)\n",
    "print('u' in str1)\n"
   ]
  },
  {
   "cell_type": "code",
   "execution_count": 123,
   "id": "07c56293-0ff8-408b-9c39-44adcf82b2df",
   "metadata": {},
   "outputs": [
    {
     "name": "stdout",
     "output_type": "stream",
     "text": [
      "True\n",
      "False\n"
     ]
    }
   ],
   "source": [
    "li=[1,2,3]\n",
    "print(3 in li)\n",
    "print(5 in li)"
   ]
  },
  {
   "cell_type": "code",
   "execution_count": 139,
   "id": "77222333-5b29-4083-807e-d75f6bcb5992",
   "metadata": {},
   "outputs": [
    {
     "name": "stdout",
     "output_type": "stream",
     "text": [
      "1\n"
     ]
    }
   ],
   "source": [
    "#bitwise operator(and ,or,not,xor,leftshift,rightship)\n",
    "a=7\n",
    "b=9\n",
    "print(a & b)"
   ]
  },
  {
   "cell_type": "code",
   "execution_count": 143,
   "id": "3d09ef0f-22e2-435c-abd6-28e84df1cd19",
   "metadata": {},
   "outputs": [
    {
     "name": "stdout",
     "output_type": "stream",
     "text": [
      "15\n"
     ]
    }
   ],
   "source": [
    "a=10\n",
    "b=7\n",
    "print(a | b)"
   ]
  },
  {
   "cell_type": "code",
   "execution_count": 147,
   "id": "20705a3e-c7bb-464d-879c-44ea5cd61641",
   "metadata": {},
   "outputs": [
    {
     "name": "stdout",
     "output_type": "stream",
     "text": [
      "-2\n"
     ]
    }
   ],
   "source": [
    "#not\n",
    "a=7\n",
    "b=9\n",
    "print(~(a & b))"
   ]
  },
  {
   "cell_type": "code",
   "execution_count": 149,
   "id": "95f033ee-d351-440c-8952-2548edcda355",
   "metadata": {},
   "outputs": [
    {
     "name": "stdout",
     "output_type": "stream",
     "text": [
      "14\n"
     ]
    }
   ],
   "source": [
    "#or\n",
    "a=7\n",
    "b=9\n",
    "print(a^b)"
   ]
  }
 ],
 "metadata": {
  "kernelspec": {
   "display_name": "Python 3 (ipykernel)",
   "language": "python",
   "name": "python3"
  },
  "language_info": {
   "codemirror_mode": {
    "name": "ipython",
    "version": 3
   },
   "file_extension": ".py",
   "mimetype": "text/x-python",
   "name": "python",
   "nbconvert_exporter": "python",
   "pygments_lexer": "ipython3",
   "version": "3.12.4"
  }
 },
 "nbformat": 4,
 "nbformat_minor": 5
}
