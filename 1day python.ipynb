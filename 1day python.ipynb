{
 "cells": [
  {
   "cell_type": "code",
   "execution_count": 3,
   "id": "e8ece85a-9160-4020-8428-d3a95dc25ad8",
   "metadata": {},
   "outputs": [
    {
     "name": "stdout",
     "output_type": "stream",
     "text": [
      "mahak\n"
     ]
    }
   ],
   "source": [
    "print('mahak')"
   ]
  },
  {
   "cell_type": "code",
   "execution_count": 7,
   "id": "a12b56e9-7402-4c85-8c64-f63aa323d8e2",
   "metadata": {},
   "outputs": [
    {
     "name": "stdout",
     "output_type": "stream",
     "text": [
      "jaipur is pink city\n"
     ]
    }
   ],
   "source": [
    "print('jaipur is pink city')"
   ]
  },
  {
   "cell_type": "code",
   "execution_count": 11,
   "id": "b495afda-a8bf-46ea-90ae-0f0c23a0f599",
   "metadata": {},
   "outputs": [
    {
     "name": "stdout",
     "output_type": "stream",
     "text": [
      "90\n"
     ]
    }
   ],
   "source": [
    "print(90)"
   ]
  },
  {
   "cell_type": "code",
   "execution_count": 15,
   "id": "e718c024-46f9-4e0d-af57-b3b13ea8a577",
   "metadata": {},
   "outputs": [],
   "source": [
    "# COMMENTING\n",
    "# 1.SINGLE LINE COMMENT--->#\n",
    "# 2.MULTIPLE LINE COMMENT---> '''   ''' OR \"\"\"  \"\"\"\n"
   ]
  },
  {
   "cell_type": "code",
   "execution_count": 19,
   "id": "8481230d-21af-46e3-9d25-94031fee9c03",
   "metadata": {},
   "outputs": [],
   "source": [
    "#VARIABLES\n",
    "#var_name=var value to be given\n",
    "a=9"
   ]
  },
  {
   "cell_type": "code",
   "execution_count": 21,
   "id": "a4b4016e-769c-4318-b615-7e4a13785e1a",
   "metadata": {},
   "outputs": [
    {
     "name": "stdout",
     "output_type": "stream",
     "text": [
      "<class 'int'>\n"
     ]
    }
   ],
   "source": [
    "#HOW TO CHECK DATATYPES\n",
    "a=9\n",
    "print(type(a))"
   ]
  },
  {
   "cell_type": "code",
   "execution_count": 25,
   "id": "e91c9a8c-33b3-4d76-b5c6-8548218f691d",
   "metadata": {},
   "outputs": [
    {
     "name": "stdout",
     "output_type": "stream",
     "text": [
      "<class 'str'>\n"
     ]
    }
   ],
   "source": [
    "a='jaipur'\n",
    "print(type(a))"
   ]
  },
  {
   "cell_type": "code",
   "execution_count": 29,
   "id": "bb8819a3-a979-47da-a9a1-553409ab3bcd",
   "metadata": {},
   "outputs": [
    {
     "name": "stdout",
     "output_type": "stream",
     "text": [
      "<class 'bool'>\n"
     ]
    }
   ],
   "source": [
    "a=True\n",
    "print(type(a))"
   ]
  },
  {
   "cell_type": "code",
   "execution_count": 35,
   "id": "39e58f3a-99b3-4087-b2f9-bcda28f07481",
   "metadata": {},
   "outputs": [
    {
     "name": "stdout",
     "output_type": "stream",
     "text": [
      "jaipur beautiful\n"
     ]
    }
   ],
   "source": [
    "#CONCATENATION\n",
    "# using '+' operator\n",
    "# whwn we want to add two or more strings\n",
    "\n",
    "print('jaipur'+' beautiful')"
   ]
  },
  {
   "cell_type": "code",
   "execution_count": 41,
   "id": "a6017135-b446-4545-9c49-47e66739e30b",
   "metadata": {},
   "outputs": [
    {
     "name": "stdout",
     "output_type": "stream",
     "text": [
      "her age is 30\n"
     ]
    }
   ],
   "source": [
    "# F string---> formatted string literals\n",
    "# ------>way to format strings in python\n",
    "\n",
    "age=30\n",
    "print('her age is',30)"
   ]
  },
  {
   "cell_type": "code",
   "execution_count": 51,
   "id": "263dec1c-94d9-4d52-b54f-8edbdac0c2d0",
   "metadata": {},
   "outputs": [
    {
     "name": "stdout",
     "output_type": "stream",
     "text": [
      "her age is  30 years old\n"
     ]
    }
   ],
   "source": [
    "print('her age is ',30,'years old')"
   ]
  },
  {
   "cell_type": "code",
   "execution_count": 59,
   "id": "c3332ae2-20f6-45f7-b88a-fe179e9f3f84",
   "metadata": {},
   "outputs": [
    {
     "name": "stdout",
     "output_type": "stream",
     "text": [
      "her age is 30 years old\n"
     ]
    }
   ],
   "source": [
    "print(f'her age is {age} years old')"
   ]
  }
 ],
 "metadata": {
  "kernelspec": {
   "display_name": "Python 3 (ipykernel)",
   "language": "python",
   "name": "python3"
  },
  "language_info": {
   "codemirror_mode": {
    "name": "ipython",
    "version": 3
   },
   "file_extension": ".py",
   "mimetype": "text/x-python",
   "name": "python",
   "nbconvert_exporter": "python",
   "pygments_lexer": "ipython3",
   "version": "3.12.4"
  }
 },
 "nbformat": 4,
 "nbformat_minor": 5
}
