{
 "cells": [
  {
   "cell_type": "code",
   "execution_count": 1,
   "id": "c56fd50c-c360-4956-b9de-6c822de4696d",
   "metadata": {},
   "outputs": [],
   "source": [
    "#DATATYPES\n",
    "#1.numeric datatype\n",
    "\n",
    "#2.character dataype\n",
    "#string\n",
    "#list\n",
    "#tuple"
   ]
  },
  {
   "cell_type": "code",
   "execution_count": 5,
   "id": "b01d9ef4-f8a3-49a2-9bd3-f74286d45a28",
   "metadata": {},
   "outputs": [
    {
     "name": "stdout",
     "output_type": "stream",
     "text": [
      "[1, 2, 3, 'hello', True]\n"
     ]
    }
   ],
   "source": [
    "list=[1,2,3,'hello',True]\n",
    "print(list)"
   ]
  },
  {
   "cell_type": "code",
   "execution_count": 9,
   "id": "94a37be4-3ffd-4df6-95f0-e261ffacb950",
   "metadata": {},
   "outputs": [
    {
     "name": "stdout",
     "output_type": "stream",
     "text": [
      "(1, 2, False, 'HII')\n"
     ]
    }
   ],
   "source": [
    "tuple=(1,2,False,'HII')\n",
    "print(tuple)"
   ]
  },
  {
   "cell_type": "code",
   "execution_count": 11,
   "id": "db5a20b7-36b1-4d26-889f-93c1b5d52d6c",
   "metadata": {},
   "outputs": [],
   "source": [
    "#list methods\n"
   ]
  },
  {
   "cell_type": "code",
   "execution_count": 15,
   "id": "64b69469-8f6c-43d1-af23-bc39a2fad04d",
   "metadata": {},
   "outputs": [
    {
     "name": "stdout",
     "output_type": "stream",
     "text": [
      "[1, 2, 3, 4, 10]\n"
     ]
    }
   ],
   "source": [
    "#1.append()\n",
    "li=[1,2,3,4]\n",
    "li.append(10)\n",
    "print(li)"
   ]
  },
  {
   "cell_type": "code",
   "execution_count": 19,
   "id": "96bac41c-4209-4da2-8b02-55446460bb67",
   "metadata": {},
   "outputs": [
    {
     "name": "stdout",
     "output_type": "stream",
     "text": [
      "[1, 2, 3, 4, 7, 1, 8]\n"
     ]
    }
   ],
   "source": [
    "#2.extend()\n",
    "li=[1,2,3,4]\n",
    "li.extend([7,1,8])\n",
    "print(li)"
   ]
  },
  {
   "cell_type": "code",
   "execution_count": 23,
   "id": "6563e7db-a3b0-459c-b135-4cfd138fccf7",
   "metadata": {},
   "outputs": [
    {
     "name": "stdout",
     "output_type": "stream",
     "text": [
      "[1, 2, 3, 100, 4, 7, 1, 8]\n"
     ]
    }
   ],
   "source": [
    "#3.insert()\n",
    "li=[1, 2, 3, 4, 7, 1, 8]\n",
    "li.insert(3,100)\n",
    "print(li)"
   ]
  },
  {
   "cell_type": "code",
   "execution_count": 29,
   "id": "1cbc0c74-9dd4-4fa9-90eb-53eb4a1ac6f5",
   "metadata": {},
   "outputs": [
    {
     "name": "stdout",
     "output_type": "stream",
     "text": [
      "[2, 3, 4, 7, 1, 8]\n"
     ]
    }
   ],
   "source": [
    "#4.remove()\n",
    "li=[1, 2, 3, 4, 7, 1, 8]    #by default it will remove 1index no.\n",
    "li.remove(1)\n",
    "print(li)"
   ]
  },
  {
   "cell_type": "code",
   "execution_count": 33,
   "id": "d7ed8cde-b2f8-434a-92f9-9986df084c51",
   "metadata": {},
   "outputs": [
    {
     "name": "stdout",
     "output_type": "stream",
     "text": [
      "[1, 2, 4, 7, 1, 8]\n"
     ]
    }
   ],
   "source": [
    "#5.pop()\n",
    "li=[1, 2, 3, 4, 7, 1, 8]\n",
    "li.pop(2)\n",
    "print(li)"
   ]
  },
  {
   "cell_type": "code",
   "execution_count": 37,
   "id": "88501008-3e6a-4734-93c5-e9b7df31758e",
   "metadata": {},
   "outputs": [
    {
     "name": "stdout",
     "output_type": "stream",
     "text": [
      "[]\n"
     ]
    }
   ],
   "source": [
    "#6.clear()\n",
    "li=[1, 2, 3, 4, 7, 1, 8]\n",
    "li.clear()\n",
    "print(li)"
   ]
  },
  {
   "cell_type": "code",
   "execution_count": 1,
   "id": "9261b68e-49e2-45db-99bd-6a4e2b7ff2e6",
   "metadata": {},
   "outputs": [
    {
     "data": {
      "text/plain": [
       "1"
      ]
     },
     "execution_count": 1,
     "metadata": {},
     "output_type": "execute_result"
    }
   ],
   "source": [
    "#7.index()\n",
    "li=[1, 2, 3, 4, 7, 1, 8]\n",
    "li.index(2)\n"
   ]
  },
  {
   "cell_type": "code",
   "execution_count": 7,
   "id": "5dfb2121-538b-4bfe-8718-d9477f8f9b86",
   "metadata": {},
   "outputs": [
    {
     "data": {
      "text/plain": [
       "[0, 1, 1, 2, 3, 7]"
      ]
     },
     "execution_count": 7,
     "metadata": {},
     "output_type": "execute_result"
    }
   ],
   "source": [
    "#8.sort()\n",
    "list1=[1,2,3,1,7,0]\n",
    "list1.sort()\n",
    "list1"
   ]
  },
  {
   "cell_type": "code",
   "execution_count": 17,
   "id": "f9e0464a-7259-4ed2-81c5-46154908185e",
   "metadata": {},
   "outputs": [
    {
     "data": {
      "text/plain": [
       "[7, 3, 2, 1, 1, 0]"
      ]
     },
     "execution_count": 17,
     "metadata": {},
     "output_type": "execute_result"
    }
   ],
   "source": [
    "# 9.reverse()\n",
    "list1.sort(reverse=True)\n",
    "list1"
   ]
  },
  {
   "cell_type": "code",
   "execution_count": 21,
   "id": "630aeff5-50c7-4797-a5c0-ab6f6424315a",
   "metadata": {},
   "outputs": [
    {
     "data": {
      "text/plain": [
       "[7, 3, 2, 1, 1, 0]"
      ]
     },
     "execution_count": 21,
     "metadata": {},
     "output_type": "execute_result"
    }
   ],
   "source": [
    "list1.reverse()\n",
    "list1"
   ]
  },
  {
   "cell_type": "code",
   "execution_count": 23,
   "id": "ff6be944-ccdc-48b3-8851-b4f4672dafa0",
   "metadata": {},
   "outputs": [
    {
     "data": {
      "text/plain": [
       "[7, 3, 2, 1, 1, 0]"
      ]
     },
     "execution_count": 23,
     "metadata": {},
     "output_type": "execute_result"
    }
   ],
   "source": [
    "#10.copy()\n",
    "list2=list1.copy()\n",
    "list2"
   ]
  }
 ],
 "metadata": {
  "kernelspec": {
   "display_name": "Python 3 (ipykernel)",
   "language": "python",
   "name": "python3"
  },
  "language_info": {
   "codemirror_mode": {
    "name": "ipython",
    "version": 3
   },
   "file_extension": ".py",
   "mimetype": "text/x-python",
   "name": "python",
   "nbconvert_exporter": "python",
   "pygments_lexer": "ipython3",
   "version": "3.12.4"
  }
 },
 "nbformat": 4,
 "nbformat_minor": 5
}
