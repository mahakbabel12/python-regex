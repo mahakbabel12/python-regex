{
 "cells": [
  {
   "cell_type": "code",
   "execution_count": 3,
   "id": "0562193f-fc9b-41ab-88f9-7ed7f0235cef",
   "metadata": {},
   "outputs": [
    {
     "data": {
      "text/plain": [
       "'mahak'"
      ]
     },
     "execution_count": 3,
     "metadata": {},
     "output_type": "execute_result"
    }
   ],
   "source": [
    "my_dict={10:\"mahak\",20:\"naina\"}\n",
    "my_dict[10]"
   ]
  },
  {
   "cell_type": "code",
   "execution_count": 7,
   "id": "c6f798c0-97e8-4c13-87bd-59379a11aeb6",
   "metadata": {},
   "outputs": [
    {
     "data": {
      "text/plain": [
       "{10: 'mj', 20: 'naina'}"
      ]
     },
     "execution_count": 7,
     "metadata": {},
     "output_type": "execute_result"
    }
   ],
   "source": [
    "my_dict[10]='mj'\n",
    "my_dict"
   ]
  },
  {
   "cell_type": "code",
   "execution_count": 9,
   "id": "2a360d25-5798-40a7-98dc-19ffb8302e01",
   "metadata": {},
   "outputs": [
    {
     "data": {
      "text/plain": [
       "{10: 'mj', 20: 'naina', 90: 'hey'}"
      ]
     },
     "execution_count": 9,
     "metadata": {},
     "output_type": "execute_result"
    }
   ],
   "source": [
    "#insert\n",
    "my_dict[90]='hey'\n",
    "my_dict"
   ]
  },
  {
   "cell_type": "code",
   "execution_count": 11,
   "id": "7160270d-dd66-4c24-ac79-fa36fc18cb39",
   "metadata": {},
   "outputs": [
    {
     "data": {
      "text/plain": [
       "'mj'"
      ]
     },
     "execution_count": 11,
     "metadata": {},
     "output_type": "execute_result"
    }
   ],
   "source": [
    "x=my_dict.pop(10)\n",
    "x"
   ]
  },
  {
   "cell_type": "code",
   "execution_count": 13,
   "id": "b8cb3166-b393-4e00-a539-972c4b739da4",
   "metadata": {},
   "outputs": [
    {
     "data": {
      "text/plain": [
       "{20: 'naina', 90: 'hey'}"
      ]
     },
     "execution_count": 13,
     "metadata": {},
     "output_type": "execute_result"
    }
   ],
   "source": [
    "my_dict"
   ]
  },
  {
   "cell_type": "code",
   "execution_count": 17,
   "id": "6280695e-59ac-4294-871a-091c9e40cb3b",
   "metadata": {},
   "outputs": [
    {
     "data": {
      "text/plain": [
       "({20: 'naina', 90: 'hey'}, 'X', 'mj')"
      ]
     },
     "execution_count": 17,
     "metadata": {},
     "output_type": "execute_result"
    }
   ],
   "source": [
    "print(my_dict,\"X\",x)"
   ]
  },
  {
   "cell_type": "code",
   "execution_count": 19,
   "id": "2963a724-768c-427b-b792-a44c0dad1ac0",
   "metadata": {},
   "outputs": [
    {
     "data": {
      "text/plain": [
       "{90: 'hey'}"
      ]
     },
     "execution_count": 19,
     "metadata": {},
     "output_type": "execute_result"
    }
   ],
   "source": [
    "del my_dict[20]\n",
    "my_dict"
   ]
  },
  {
   "cell_type": "code",
   "execution_count": 27,
   "id": "a66e3e52-a298-4ef9-8b8e-4f4f8722bb0d",
   "metadata": {},
   "outputs": [
    {
     "data": {
      "text/plain": [
       "{10: 'abc', 20: 'naina'}"
      ]
     },
     "execution_count": 27,
     "metadata": {},
     "output_type": "execute_result"
    }
   ],
   "source": [
    "mydict={10:\"mahak\",20:\"naina\"}\n",
    "mydict.update({10:'abc'})\n",
    "mydict\n"
   ]
  },
  {
   "cell_type": "code",
   "execution_count": 29,
   "id": "b7eeb370-8d99-4e91-a10e-d166e0345f07",
   "metadata": {},
   "outputs": [
    {
     "data": {
      "text/plain": [
       "{10: 'abc', 20: 'naina', 40: 'abc'}"
      ]
     },
     "execution_count": 29,
     "metadata": {},
     "output_type": "execute_result"
    }
   ],
   "source": [
    "mydict.update({40:'abc'})\n",
    "mydict\n",
    "#if element then update if not then it add that element"
   ]
  },
  {
   "cell_type": "code",
   "execution_count": 45,
   "id": "dc8bc673-84c7-459b-88b7-c5eb2f90a2eb",
   "metadata": {},
   "outputs": [
    {
     "name": "stdout",
     "output_type": "stream",
     "text": [
      "{'total': 1}\n",
      "{'total': 2}\n",
      "{'total': 3}\n",
      "{'total': 4}\n",
      "{'total': 5}\n",
      "{'total': 6}\n",
      "{'total': 7}\n",
      "{'total': 8}\n"
     ]
    }
   ],
   "source": [
    "my_dict={'total':0}\n",
    "for x in range(10,18):\n",
    "    my_dict['total']=my_dict['total']+1\n",
    "    print(my_dict)"
   ]
  },
  {
   "cell_type": "code",
   "execution_count": 47,
   "id": "ea540e62-d55a-4878-be1c-6e07a395689a",
   "metadata": {},
   "outputs": [
    {
     "name": "stdout",
     "output_type": "stream",
     "text": [
      "{'total': 8}\n"
     ]
    }
   ],
   "source": [
    "my_dict={'total':0}\n",
    "for x in range(10,18):\n",
    "    my_dict['total']=my_dict['total']+1\n",
    "print(my_dict)"
   ]
  },
  {
   "cell_type": "code",
   "execution_count": 55,
   "id": "84d7d1c2-0f2d-4e76-8298-bde6c33280a3",
   "metadata": {},
   "outputs": [
    {
     "name": "stdout",
     "output_type": "stream",
     "text": [
      "7\n"
     ]
    }
   ],
   "source": [
    "string='heyuser'\n",
    "count=0\n",
    "for i in string:\n",
    "    count+=1\n",
    "print(count)"
   ]
  },
  {
   "cell_type": "code",
   "execution_count": 59,
   "id": "4dc9f031-f065-4132-a1b6-5609f39f3aa2",
   "metadata": {},
   "outputs": [
    {
     "name": "stdout",
     "output_type": "stream",
     "text": [
      "{'total': 7}\n"
     ]
    }
   ],
   "source": [
    "string='heyuser'\n",
    "dict={'total':0}\n",
    "for i in string:\n",
    "    dict['total']=dict['total']+1\n",
    "    \n",
    "print(dict)"
   ]
  },
  {
   "cell_type": "code",
   "execution_count": 63,
   "id": "e9beede5-af7d-45e0-9662-80e8d3d48da7",
   "metadata": {},
   "outputs": [
    {
     "name": "stdout",
     "output_type": "stream",
     "text": [
      "{'h': 1, 'e': 1, 'y': 1, 'u': 1, 's': 1, 'r': 1}\n"
     ]
    }
   ],
   "source": [
    "string='heyuser'\n",
    "dict={}\n",
    "for i in string:\n",
    "    dict[i]=1\n",
    "print(dict)\n"
   ]
  },
  {
   "cell_type": "code",
   "execution_count": 65,
   "id": "b00d86c6-657d-47de-8fd6-a5f4eed73c6f",
   "metadata": {},
   "outputs": [
    {
     "name": "stdout",
     "output_type": "stream",
     "text": [
      "{'h': 1, 'e': 1, 'l': 2, 'o': 1}\n"
     ]
    }
   ],
   "source": [
    "\n",
    "dict={}\n",
    "for i in \"hello\":\n",
    "    if i not in dict:\n",
    "        dict[i]=1\n",
    "    else:\n",
    "        dict[i]=dict[i]+1\n",
    "print(dict)"
   ]
  },
  {
   "cell_type": "code",
   "execution_count": 81,
   "id": "96ccec27-b202-486f-aee7-72345ba92250",
   "metadata": {},
   "outputs": [
    {
     "name": "stdout",
     "output_type": "stream",
     "text": [
      "{'div': 3, 'notdiv': 47}\n"
     ]
    }
   ],
   "source": [
    "dict={'div':0,'notdiv':0}\n",
    "for i in range(1,51):\n",
    "    if i%2==0 and i%7==0:\n",
    "        dict[\"div\"]=dict[\"div\"]+1\n",
    "    else:\n",
    "        dict[\"notdiv\"]=dict[\"notdiv\"]+1\n",
    "print(dict)"
   ]
  },
  {
   "cell_type": "code",
   "execution_count": 83,
   "id": "37266363-56de-404d-ad8c-3ef12b01b7e6",
   "metadata": {},
   "outputs": [
    {
     "name": "stdout",
     "output_type": "stream",
     "text": [
      "{'vowel': 8}\n"
     ]
    }
   ],
   "source": [
    "dict={'vowel':0}\n",
    "m='aeiou'\n",
    "for i in \"hey hello tushar aei\":\n",
    "    if i in m:\n",
    "        dict['vowel']=dict['vowel']+1\n",
    "print(dict)\n"
   ]
  },
  {
   "cell_type": "code",
   "execution_count": 85,
   "id": "989075e9-13b3-4fe9-9b45-b1206ad07896",
   "metadata": {},
   "outputs": [
    {
     "name": "stdout",
     "output_type": "stream",
     "text": [
      "{'a': 2, 'e': 3, 'i': 1, 'u': 1, 'o': 1}\n"
     ]
    }
   ],
   "source": [
    "dict={'a':0,'e':0,'i':0,'u':0,'o':0}\n",
    "for i in \"hey hello tushar aei\":\n",
    "    if i in \"aeiou\":\n",
    "        dict[i]=dict[i]+1\n",
    "print(dict)"
   ]
  },
  {
   "cell_type": "code",
   "execution_count": 91,
   "id": "88868fe1-0519-4bc9-b330-658fc43848f2",
   "metadata": {},
   "outputs": [
    {
     "data": {
      "text/plain": [
       "['hey', 'hello']"
      ]
     },
     "execution_count": 91,
     "metadata": {},
     "output_type": "execute_result"
    }
   ],
   "source": [
    "#STRING\n",
    "\"hey hello\".split( )"
   ]
  },
  {
   "cell_type": "code",
   "execution_count": 93,
   "id": "4df8d281-c577-47b2-98d2-b29e9658c73b",
   "metadata": {},
   "outputs": [
    {
     "data": {
      "text/plain": [
       "['h', 'y h', 'llo']"
      ]
     },
     "execution_count": 93,
     "metadata": {},
     "output_type": "execute_result"
    }
   ],
   "source": [
    "\"hey hello\".split(\"e\")"
   ]
  },
  {
   "cell_type": "code",
   "execution_count": 95,
   "id": "877634cb-2d9c-43ee-b747-29d347af924d",
   "metadata": {},
   "outputs": [
    {
     "name": "stdout",
     "output_type": "stream",
     "text": [
      "h\n",
      "e\n",
      "y\n",
      " \n",
      "h\n",
      "e\n",
      "l\n",
      "l\n",
      "o\n"
     ]
    }
   ],
   "source": [
    "for i in \"hey hello\":\n",
    "    print(i)"
   ]
  },
  {
   "cell_type": "code",
   "execution_count": 103,
   "id": "331e76dc-d7c6-4cf9-8a3f-5996a657493d",
   "metadata": {},
   "outputs": [
    {
     "name": "stdout",
     "output_type": "stream",
     "text": [
      "{'hello': 2, 'hii': 1}\n"
     ]
    }
   ],
   "source": [
    "s=\"hello hii hello\".split( )  \n",
    "dict={'hello':0,'hii':0}\n",
    "for i in s:\n",
    "    dict[i]=dict[i]+1\n",
    "print(dict)"
   ]
  },
  {
   "cell_type": "code",
   "execution_count": 105,
   "id": "311b292e-913f-4914-83d3-1a335ff61893",
   "metadata": {},
   "outputs": [],
   "source": [
    "#SET\n",
    "# collection of element\n",
    "# a datatype unordered , \n",
    "# no index,\n",
    "# set is mutable but set elements are immutable\n",
    "# unique"
   ]
  },
  {
   "cell_type": "code",
   "execution_count": 107,
   "id": "7c247822-3b63-4a39-be96-bd8c123c1441",
   "metadata": {},
   "outputs": [
    {
     "data": {
      "text/plain": [
       "{1, 2, 3, 4}"
      ]
     },
     "execution_count": 107,
     "metadata": {},
     "output_type": "execute_result"
    }
   ],
   "source": [
    "myset={1,2,3,4,4}\n",
    "set(myset)"
   ]
  },
  {
   "cell_type": "code",
   "execution_count": 109,
   "id": "41a60927-ff03-4688-9737-52ed3d96c5fc",
   "metadata": {},
   "outputs": [
    {
     "data": {
      "text/plain": [
       "{1, 2, 3, 4, 90}"
      ]
     },
     "execution_count": 109,
     "metadata": {},
     "output_type": "execute_result"
    }
   ],
   "source": [
    "myset.add(90)\n",
    "myset"
   ]
  },
  {
   "cell_type": "code",
   "execution_count": 111,
   "id": "78aa8db1-2df1-44ce-8340-8bc5ee06f43a",
   "metadata": {},
   "outputs": [
    {
     "data": {
      "text/plain": [
       "{1, 2, 3, 4}"
      ]
     },
     "execution_count": 111,
     "metadata": {},
     "output_type": "execute_result"
    }
   ],
   "source": [
    "myset.remove(90)\n",
    "myset"
   ]
  },
  {
   "cell_type": "code",
   "execution_count": 113,
   "id": "b881222c-8d5d-4556-a7c0-bf1559661293",
   "metadata": {},
   "outputs": [
    {
     "data": {
      "text/plain": [
       "{1, 2, 3}"
      ]
     },
     "execution_count": 113,
     "metadata": {},
     "output_type": "execute_result"
    }
   ],
   "source": [
    "# or\n",
    "myset.discard(4)\n",
    "myset"
   ]
  },
  {
   "cell_type": "code",
   "execution_count": 115,
   "id": "0d78c5d3-040a-46ac-9632-d2dd8460c656",
   "metadata": {},
   "outputs": [
    {
     "ename": "KeyError",
     "evalue": "98",
     "output_type": "error",
     "traceback": [
      "\u001b[1;31m---------------------------------------------------------------------------\u001b[0m",
      "\u001b[1;31mKeyError\u001b[0m                                  Traceback (most recent call last)",
      "Cell \u001b[1;32mIn[115], line 1\u001b[0m\n\u001b[1;32m----> 1\u001b[0m myset\u001b[38;5;241m.\u001b[39mremove(\u001b[38;5;241m98\u001b[39m)\n\u001b[0;32m      2\u001b[0m myset\n",
      "\u001b[1;31mKeyError\u001b[0m: 98"
     ]
    }
   ],
   "source": [
    "myset.remove(98)\n",
    "myset"
   ]
  },
  {
   "cell_type": "code",
   "execution_count": 117,
   "id": "fbdfda5a-cab9-4590-aa6d-8ccd03a8185c",
   "metadata": {},
   "outputs": [
    {
     "data": {
      "text/plain": [
       "{1, 2, 3}"
      ]
     },
     "execution_count": 117,
     "metadata": {},
     "output_type": "execute_result"
    }
   ],
   "source": [
    "myset.discard(89)\n",
    "myset"
   ]
  },
  {
   "cell_type": "code",
   "execution_count": null,
   "id": "467c0171-5094-40dc-86c6-f31da24ed02b",
   "metadata": {},
   "outputs": [],
   "source": [
    "."
   ]
  }
 ],
 "metadata": {
  "kernelspec": {
   "display_name": "Python 3 (ipykernel)",
   "language": "python",
   "name": "python3"
  },
  "language_info": {
   "codemirror_mode": {
    "name": "ipython",
    "version": 3
   },
   "file_extension": ".py",
   "mimetype": "text/x-python",
   "name": "python",
   "nbconvert_exporter": "python",
   "pygments_lexer": "ipython3",
   "version": "3.12.4"
  }
 },
 "nbformat": 4,
 "nbformat_minor": 5
}
